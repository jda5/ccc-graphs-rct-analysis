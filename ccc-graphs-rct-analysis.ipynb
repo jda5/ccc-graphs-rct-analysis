{
 "cells": [
  {
   "cell_type": "markdown",
   "id": "de070f61",
   "metadata": {},
   "source": [
    "# Introduction"
   ]
  },
  {
   "cell_type": "markdown",
   "id": "b513b8e2",
   "metadata": {},
   "source": [
    "This script was created for the CCC: Graphs project at Loughborough University.\n",
    "\n",
    "In order execute it, a csv file named `data.csv` must be placed in the same directory as this file. The csv file must contain the following columns: __group, pre, post, delayed__.\n",
    "\n",
    "| group | pre | post | delayed |\n",
    "| --- | --- | --- | --- |\n",
    "| 0 | 3 | 10 | 7 |\n",
    "| 0 | 4 | 15 | 9 |\n",
    "| 1 | 2 | 13 | 8 |\n",
    "| 1 | 4 | 14 | 10 |\n",
    "\n",
    "The __group__ column is a `[0, 1]` dummy variable indicating whether the participant is in the control or experimental group respectively.\n",
    "\n",
    "The __pre, post__ and __delayed__ columns are measurements taken before the intervention, a day after the intervention and a week after the intervention respectively.\n",
    "\n",
    "In order to run this script you must have the following modules installed:\n",
    "* matplotlib\n",
    "* numpy\n",
    "* pandas\n",
    "* sklearn\n",
    "* scipy\n",
    "* pinguin\n",
    "* seaborn\n",
    "* statsmodels\n",
    "\n",
    "To install these modules enter `pip install matplotlib numpy pandas sklearn scipy pinguin` into your terminal.\n",
    "\n",
    "Commonly used abbreviations include:\n",
    "* __experimental__ -> `exp`\n",
    "* __control__ -> `ctr`\n",
    "* __data frame__ -> `df`\n",
    "* __figure__ -> `fig`\n",
    "* __axis__ -> `ax`"
   ]
  },
  {
   "cell_type": "markdown",
   "id": "70b70491",
   "metadata": {},
   "source": [
    "# Imports, Global Variables and Functions"
   ]
  },
  {
   "cell_type": "code",
   "execution_count": 1,
   "id": "a112ec5a",
   "metadata": {},
   "outputs": [],
   "source": [
    "from collections import OrderedDict\n",
    "import math\n",
    "import matplotlib\n",
    "import matplotlib.pyplot as plt\n",
    "import numpy as np\n",
    "import os\n",
    "import pandas as pd\n",
    "from pingouin import ancova, anova, kruskal\n",
    "import seaborn as sns\n",
    "import scipy.stats as stats\n",
    "from sklearn import preprocessing\n",
    "from sklearn.cluster import KMeans\n",
    "import statsmodels.formula.api as smf\n",
    "\n",
    "EXP_COLOR = 'grey'\n",
    "CTR_COLOR = 'white'\n",
    "\n",
    "# The ordered dict is a hash map that allows for consistent iteration over both its keys and values\n",
    "# This is very convenient for drawing graphs and accessing columns in the dataframe.\n",
    "TESTS = OrderedDict((('pre', 'Pre-test'), ('post', 'Post-test'), ('delayed', 'Delayed Post-test')))\n",
    "\n",
    "# Saving a figure takes a while which can slow down calculations. Set this to true only when you\n",
    "# want to actually save figures.\n",
    "SAVE_FIG = False\n",
    "\n",
    "# selecting an apa to format figures style sheet\n",
    "matplotlib.style.use(\n",
    "    matplotlib.get_data_path() + '/stylelib/apa.mplstyle'\n",
    ")"
   ]
  },
  {
   "cell_type": "code",
   "execution_count": 2,
   "id": "6deaeea2",
   "metadata": {},
   "outputs": [],
   "source": [
    "# creates the directory \"figures\"\n",
    "try:\n",
    "    os.mkdir(\n",
    "        os.path.join('.', 'figures'))\n",
    "except FileExistsError:\n",
    "    pass\n",
    "\n",
    "\n",
    "def save_fig(filename):\n",
    "    \"\"\"\n",
    "    A function that saves the current plt.Figure object as an svg.\n",
    "    \"\"\"\n",
    "    if not SAVE_FIG:\n",
    "        return\n",
    "    file_path = os.path.join('.', 'figures', f'{filename}.svg')\n",
    "    plt.savefig(file_path, bbox_inches='tight')"
   ]
  },
  {
   "cell_type": "markdown",
   "id": "d9cb920b",
   "metadata": {},
   "source": [
    "# Fetching the Data"
   ]
  },
  {
   "cell_type": "code",
   "execution_count": 3,
   "id": "5929d7df",
   "metadata": {},
   "outputs": [],
   "source": [
    "df = pd.read_csv('study-data.csv')"
   ]
  },
  {
   "cell_type": "markdown",
   "id": "0b71bece",
   "metadata": {},
   "source": [
    "# Inspecting the Data"
   ]
  },
  {
   "cell_type": "code",
   "execution_count": 4,
   "id": "79c5d719",
   "metadata": {},
   "outputs": [
    {
     "data": {
      "text/html": [
       "<div>\n",
       "<style scoped>\n",
       "    .dataframe tbody tr th:only-of-type {\n",
       "        vertical-align: middle;\n",
       "    }\n",
       "\n",
       "    .dataframe tbody tr th {\n",
       "        vertical-align: top;\n",
       "    }\n",
       "\n",
       "    .dataframe thead th {\n",
       "        text-align: right;\n",
       "    }\n",
       "</style>\n",
       "<table border=\"1\" class=\"dataframe\">\n",
       "  <thead>\n",
       "    <tr style=\"text-align: right;\">\n",
       "      <th></th>\n",
       "      <th>student_id</th>\n",
       "      <th>group</th>\n",
       "      <th>pre</th>\n",
       "      <th>post</th>\n",
       "      <th>delayed</th>\n",
       "      <th>dropout</th>\n",
       "      <th>notes</th>\n",
       "    </tr>\n",
       "  </thead>\n",
       "  <tbody>\n",
       "    <tr>\n",
       "      <th>0</th>\n",
       "      <td>1001</td>\n",
       "      <td>NaN</td>\n",
       "      <td>NaN</td>\n",
       "      <td>NaN</td>\n",
       "      <td>NaN</td>\n",
       "      <td>NaN</td>\n",
       "      <td>NaN</td>\n",
       "    </tr>\n",
       "    <tr>\n",
       "      <th>1</th>\n",
       "      <td>1002</td>\n",
       "      <td>0.0</td>\n",
       "      <td>0.0</td>\n",
       "      <td>4.0</td>\n",
       "      <td>NaN</td>\n",
       "      <td>1.0</td>\n",
       "      <td>Dropout at participant's request</td>\n",
       "    </tr>\n",
       "    <tr>\n",
       "      <th>2</th>\n",
       "      <td>1003</td>\n",
       "      <td>1.0</td>\n",
       "      <td>11.0</td>\n",
       "      <td>NaN</td>\n",
       "      <td>31.0</td>\n",
       "      <td>1.0</td>\n",
       "      <td>Dropout at participant's request</td>\n",
       "    </tr>\n",
       "    <tr>\n",
       "      <th>3</th>\n",
       "      <td>1004</td>\n",
       "      <td>0.0</td>\n",
       "      <td>21.0</td>\n",
       "      <td>36.0</td>\n",
       "      <td>48.0</td>\n",
       "      <td>NaN</td>\n",
       "      <td>NaN</td>\n",
       "    </tr>\n",
       "    <tr>\n",
       "      <th>4</th>\n",
       "      <td>1005</td>\n",
       "      <td>1.0</td>\n",
       "      <td>40.0</td>\n",
       "      <td>48.0</td>\n",
       "      <td>48.0</td>\n",
       "      <td>NaN</td>\n",
       "      <td>NaN</td>\n",
       "    </tr>\n",
       "  </tbody>\n",
       "</table>\n",
       "</div>"
      ],
      "text/plain": [
       "   student_id  group   pre  post  delayed  dropout  \\\n",
       "0        1001    NaN   NaN   NaN      NaN      NaN   \n",
       "1        1002    0.0   0.0   4.0      NaN      1.0   \n",
       "2        1003    1.0  11.0   NaN     31.0      1.0   \n",
       "3        1004    0.0  21.0  36.0     48.0      NaN   \n",
       "4        1005    1.0  40.0  48.0     48.0      NaN   \n",
       "\n",
       "                              notes  \n",
       "0                               NaN  \n",
       "1  Dropout at participant's request  \n",
       "2  Dropout at participant's request  \n",
       "3                               NaN  \n",
       "4                               NaN  "
      ]
     },
     "execution_count": 4,
     "metadata": {},
     "output_type": "execute_result"
    }
   ],
   "source": [
    "df.head()"
   ]
  },
  {
   "cell_type": "code",
   "execution_count": 5,
   "id": "85b957de",
   "metadata": {},
   "outputs": [
    {
     "data": {
      "text/html": [
       "<div>\n",
       "<style scoped>\n",
       "    .dataframe tbody tr th:only-of-type {\n",
       "        vertical-align: middle;\n",
       "    }\n",
       "\n",
       "    .dataframe tbody tr th {\n",
       "        vertical-align: top;\n",
       "    }\n",
       "\n",
       "    .dataframe thead th {\n",
       "        text-align: right;\n",
       "    }\n",
       "</style>\n",
       "<table border=\"1\" class=\"dataframe\">\n",
       "  <thead>\n",
       "    <tr style=\"text-align: right;\">\n",
       "      <th></th>\n",
       "      <th>student_id</th>\n",
       "      <th>group</th>\n",
       "      <th>pre</th>\n",
       "      <th>post</th>\n",
       "      <th>delayed</th>\n",
       "      <th>dropout</th>\n",
       "    </tr>\n",
       "  </thead>\n",
       "  <tbody>\n",
       "    <tr>\n",
       "      <th>count</th>\n",
       "      <td>300.000000</td>\n",
       "      <td>230.000000</td>\n",
       "      <td>229.000000</td>\n",
       "      <td>217.000000</td>\n",
       "      <td>175.000000</td>\n",
       "      <td>6.0</td>\n",
       "    </tr>\n",
       "    <tr>\n",
       "      <th>mean</th>\n",
       "      <td>3065.500000</td>\n",
       "      <td>0.530435</td>\n",
       "      <td>5.157205</td>\n",
       "      <td>17.502304</td>\n",
       "      <td>19.988571</td>\n",
       "      <td>1.0</td>\n",
       "    </tr>\n",
       "    <tr>\n",
       "      <th>std</th>\n",
       "      <td>1417.488092</td>\n",
       "      <td>0.500161</td>\n",
       "      <td>9.708998</td>\n",
       "      <td>13.163194</td>\n",
       "      <td>14.415425</td>\n",
       "      <td>0.0</td>\n",
       "    </tr>\n",
       "    <tr>\n",
       "      <th>min</th>\n",
       "      <td>1001.000000</td>\n",
       "      <td>0.000000</td>\n",
       "      <td>0.000000</td>\n",
       "      <td>0.000000</td>\n",
       "      <td>0.000000</td>\n",
       "      <td>1.0</td>\n",
       "    </tr>\n",
       "    <tr>\n",
       "      <th>25%</th>\n",
       "      <td>2015.750000</td>\n",
       "      <td>0.000000</td>\n",
       "      <td>0.000000</td>\n",
       "      <td>6.000000</td>\n",
       "      <td>7.500000</td>\n",
       "      <td>1.0</td>\n",
       "    </tr>\n",
       "    <tr>\n",
       "      <th>50%</th>\n",
       "      <td>3065.500000</td>\n",
       "      <td>1.000000</td>\n",
       "      <td>0.000000</td>\n",
       "      <td>16.000000</td>\n",
       "      <td>18.000000</td>\n",
       "      <td>1.0</td>\n",
       "    </tr>\n",
       "    <tr>\n",
       "      <th>75%</th>\n",
       "      <td>4115.250000</td>\n",
       "      <td>1.000000</td>\n",
       "      <td>6.000000</td>\n",
       "      <td>27.000000</td>\n",
       "      <td>30.500000</td>\n",
       "      <td>1.0</td>\n",
       "    </tr>\n",
       "    <tr>\n",
       "      <th>max</th>\n",
       "      <td>5130.000000</td>\n",
       "      <td>1.000000</td>\n",
       "      <td>48.000000</td>\n",
       "      <td>48.000000</td>\n",
       "      <td>48.000000</td>\n",
       "      <td>1.0</td>\n",
       "    </tr>\n",
       "  </tbody>\n",
       "</table>\n",
       "</div>"
      ],
      "text/plain": [
       "        student_id       group         pre        post     delayed  dropout\n",
       "count   300.000000  230.000000  229.000000  217.000000  175.000000      6.0\n",
       "mean   3065.500000    0.530435    5.157205   17.502304   19.988571      1.0\n",
       "std    1417.488092    0.500161    9.708998   13.163194   14.415425      0.0\n",
       "min    1001.000000    0.000000    0.000000    0.000000    0.000000      1.0\n",
       "25%    2015.750000    0.000000    0.000000    6.000000    7.500000      1.0\n",
       "50%    3065.500000    1.000000    0.000000   16.000000   18.000000      1.0\n",
       "75%    4115.250000    1.000000    6.000000   27.000000   30.500000      1.0\n",
       "max    5130.000000    1.000000   48.000000   48.000000   48.000000      1.0"
      ]
     },
     "execution_count": 5,
     "metadata": {},
     "output_type": "execute_result"
    }
   ],
   "source": [
    "df.describe()"
   ]
  },
  {
   "cell_type": "markdown",
   "id": "9ff311d2",
   "metadata": {},
   "source": [
    "## Drop Participants"
   ]
  },
  {
   "cell_type": "code",
   "execution_count": 6,
   "id": "6c214b50",
   "metadata": {},
   "outputs": [],
   "source": [
    "# Drop all rows with a missing pre-test data\n",
    "\n",
    "missing = df.index[df['pre'].isna()]\n",
    "df.drop(missing, inplace=True)"
   ]
  },
  {
   "cell_type": "code",
   "execution_count": 7,
   "id": "31fc26f9",
   "metadata": {},
   "outputs": [],
   "source": [
    "# Drop all rows with a 'dropout' value of 1\n",
    "\n",
    "dropout = df.index[df['dropout'] == 1]\n",
    "df.drop(dropout, inplace=True)"
   ]
  },
  {
   "cell_type": "code",
   "execution_count": 8,
   "id": "5ef75051",
   "metadata": {},
   "outputs": [],
   "source": [
    "# Splitting the data into the control and experimental sets\n",
    "\n",
    "exp = df[df['group'] == 1]\n",
    "ctr = df[df['group'] == 0]"
   ]
  },
  {
   "cell_type": "markdown",
   "id": "5911ecb4",
   "metadata": {},
   "source": [
    "# Checking That the Assumptions of the Data for an ANCOVA Are Met"
   ]
  },
  {
   "cell_type": "markdown",
   "id": "7bfc2c74",
   "metadata": {},
   "source": [
    "The assumptions of the data for an ANCOVA are:\n",
    "\n",
    "\n",
    "1. __Independent observations__. This condition is met as the student in each class independently sit their pre- and post-test at the same time.\n",
    "\n",
    "\n",
    "2. __Normality of the dependent variable__. This condition can be relaxed a little if the data is approximately normal. To avoid a ceiling effect, the tests have been designed to so that they are almost impossible to complete in the allotted time.\n",
    "\n",
    "\n",
    "3. __Homogeneity__. This condition is particularly important if there are sharply unequal sample sizes. I intend for both groups to be of equal sizes, but dropout may result in unequal group sizes.\n",
    "\n",
    "\n",
    "4. __Homogeneity of regression slopes__. This condition is likely to be met since students are randomly allocated to a group at the individual level.\n",
    "\n",
    "\n",
    "5. __Linearity__. "
   ]
  },
  {
   "cell_type": "code",
   "execution_count": 9,
   "id": "d47f7df9",
   "metadata": {},
   "outputs": [
    {
     "data": {
      "text/html": [
       "<div>\n",
       "<style scoped>\n",
       "    .dataframe tbody tr th:only-of-type {\n",
       "        vertical-align: middle;\n",
       "    }\n",
       "\n",
       "    .dataframe tbody tr th {\n",
       "        vertical-align: top;\n",
       "    }\n",
       "\n",
       "    .dataframe thead th {\n",
       "        text-align: right;\n",
       "    }\n",
       "</style>\n",
       "<table border=\"1\" class=\"dataframe\">\n",
       "  <thead>\n",
       "    <tr style=\"text-align: right;\">\n",
       "      <th></th>\n",
       "      <th>student_id</th>\n",
       "      <th>group</th>\n",
       "      <th>pre</th>\n",
       "      <th>post</th>\n",
       "      <th>delayed</th>\n",
       "      <th>dropout</th>\n",
       "    </tr>\n",
       "  </thead>\n",
       "  <tbody>\n",
       "    <tr>\n",
       "      <th>count</th>\n",
       "      <td>224.00000</td>\n",
       "      <td>224.00000</td>\n",
       "      <td>224.000000</td>\n",
       "      <td>213.000000</td>\n",
       "      <td>171.000000</td>\n",
       "      <td>0.0</td>\n",
       "    </tr>\n",
       "    <tr>\n",
       "      <th>mean</th>\n",
       "      <td>3120.03125</td>\n",
       "      <td>0.53125</td>\n",
       "      <td>5.035714</td>\n",
       "      <td>17.586854</td>\n",
       "      <td>19.883041</td>\n",
       "      <td>NaN</td>\n",
       "    </tr>\n",
       "    <tr>\n",
       "      <th>std</th>\n",
       "      <td>1461.73814</td>\n",
       "      <td>0.50014</td>\n",
       "      <td>9.474468</td>\n",
       "      <td>12.976692</td>\n",
       "      <td>14.349761</td>\n",
       "      <td>NaN</td>\n",
       "    </tr>\n",
       "    <tr>\n",
       "      <th>min</th>\n",
       "      <td>1004.00000</td>\n",
       "      <td>0.00000</td>\n",
       "      <td>0.000000</td>\n",
       "      <td>0.000000</td>\n",
       "      <td>0.000000</td>\n",
       "      <td>NaN</td>\n",
       "    </tr>\n",
       "    <tr>\n",
       "      <th>25%</th>\n",
       "      <td>2015.75000</td>\n",
       "      <td>0.00000</td>\n",
       "      <td>0.000000</td>\n",
       "      <td>6.000000</td>\n",
       "      <td>7.500000</td>\n",
       "      <td>NaN</td>\n",
       "    </tr>\n",
       "    <tr>\n",
       "      <th>50%</th>\n",
       "      <td>3065.50000</td>\n",
       "      <td>1.00000</td>\n",
       "      <td>0.000000</td>\n",
       "      <td>16.000000</td>\n",
       "      <td>18.000000</td>\n",
       "      <td>NaN</td>\n",
       "    </tr>\n",
       "    <tr>\n",
       "      <th>75%</th>\n",
       "      <td>4125.50000</td>\n",
       "      <td>1.00000</td>\n",
       "      <td>6.000000</td>\n",
       "      <td>27.000000</td>\n",
       "      <td>30.000000</td>\n",
       "      <td>NaN</td>\n",
       "    </tr>\n",
       "    <tr>\n",
       "      <th>max</th>\n",
       "      <td>5130.00000</td>\n",
       "      <td>1.00000</td>\n",
       "      <td>48.000000</td>\n",
       "      <td>48.000000</td>\n",
       "      <td>48.000000</td>\n",
       "      <td>NaN</td>\n",
       "    </tr>\n",
       "  </tbody>\n",
       "</table>\n",
       "</div>"
      ],
      "text/plain": [
       "       student_id      group         pre        post     delayed  dropout\n",
       "count   224.00000  224.00000  224.000000  213.000000  171.000000      0.0\n",
       "mean   3120.03125    0.53125    5.035714   17.586854   19.883041      NaN\n",
       "std    1461.73814    0.50014    9.474468   12.976692   14.349761      NaN\n",
       "min    1004.00000    0.00000    0.000000    0.000000    0.000000      NaN\n",
       "25%    2015.75000    0.00000    0.000000    6.000000    7.500000      NaN\n",
       "50%    3065.50000    1.00000    0.000000   16.000000   18.000000      NaN\n",
       "75%    4125.50000    1.00000    6.000000   27.000000   30.000000      NaN\n",
       "max    5130.00000    1.00000   48.000000   48.000000   48.000000      NaN"
      ]
     },
     "execution_count": 9,
     "metadata": {},
     "output_type": "execute_result"
    }
   ],
   "source": [
    "df.describe()"
   ]
  },
  {
   "cell_type": "markdown",
   "id": "63fa266e",
   "metadata": {},
   "source": [
    "## Sample Sizes and Descriptive Statistics"
   ]
  },
  {
   "cell_type": "markdown",
   "id": "95712966",
   "metadata": {},
   "source": [
    "If the sample size is sufficiently large (`n > 30`), a moderate departure from normality can be allowed."
   ]
  },
  {
   "cell_type": "code",
   "execution_count": 10,
   "id": "f5e5c3ef",
   "metadata": {},
   "outputs": [
    {
     "data": {
      "text/html": [
       "<div>\n",
       "<style scoped>\n",
       "    .dataframe tbody tr th:only-of-type {\n",
       "        vertical-align: middle;\n",
       "    }\n",
       "\n",
       "    .dataframe tbody tr th {\n",
       "        vertical-align: top;\n",
       "    }\n",
       "\n",
       "    .dataframe thead th {\n",
       "        text-align: right;\n",
       "    }\n",
       "</style>\n",
       "<table border=\"1\" class=\"dataframe\">\n",
       "  <thead>\n",
       "    <tr style=\"text-align: right;\">\n",
       "      <th></th>\n",
       "      <th>student_id</th>\n",
       "      <th>pre</th>\n",
       "      <th>post</th>\n",
       "      <th>delayed</th>\n",
       "      <th>dropout</th>\n",
       "      <th>notes</th>\n",
       "    </tr>\n",
       "    <tr>\n",
       "      <th>group</th>\n",
       "      <th></th>\n",
       "      <th></th>\n",
       "      <th></th>\n",
       "      <th></th>\n",
       "      <th></th>\n",
       "      <th></th>\n",
       "    </tr>\n",
       "  </thead>\n",
       "  <tbody>\n",
       "    <tr>\n",
       "      <th>0.0</th>\n",
       "      <td>105</td>\n",
       "      <td>105</td>\n",
       "      <td>99</td>\n",
       "      <td>79</td>\n",
       "      <td>0</td>\n",
       "      <td>8</td>\n",
       "    </tr>\n",
       "    <tr>\n",
       "      <th>1.0</th>\n",
       "      <td>119</td>\n",
       "      <td>119</td>\n",
       "      <td>114</td>\n",
       "      <td>92</td>\n",
       "      <td>0</td>\n",
       "      <td>8</td>\n",
       "    </tr>\n",
       "  </tbody>\n",
       "</table>\n",
       "</div>"
      ],
      "text/plain": [
       "       student_id  pre  post  delayed  dropout  notes\n",
       "group                                                \n",
       "0.0           105  105    99       79        0      8\n",
       "1.0           119  119   114       92        0      8"
      ]
     },
     "execution_count": 10,
     "metadata": {},
     "output_type": "execute_result"
    }
   ],
   "source": [
    "# Sample sizes\n",
    "\n",
    "df.groupby('group').count()"
   ]
  },
  {
   "cell_type": "code",
   "execution_count": 11,
   "id": "0a6d37b9",
   "metadata": {},
   "outputs": [
    {
     "data": {
      "text/html": [
       "<div>\n",
       "<style scoped>\n",
       "    .dataframe tbody tr th:only-of-type {\n",
       "        vertical-align: middle;\n",
       "    }\n",
       "\n",
       "    .dataframe tbody tr th {\n",
       "        vertical-align: top;\n",
       "    }\n",
       "\n",
       "    .dataframe thead th {\n",
       "        text-align: right;\n",
       "    }\n",
       "</style>\n",
       "<table border=\"1\" class=\"dataframe\">\n",
       "  <thead>\n",
       "    <tr style=\"text-align: right;\">\n",
       "      <th></th>\n",
       "      <th>pre</th>\n",
       "      <th>post</th>\n",
       "      <th>delayed</th>\n",
       "    </tr>\n",
       "    <tr>\n",
       "      <th>group</th>\n",
       "      <th></th>\n",
       "      <th></th>\n",
       "      <th></th>\n",
       "    </tr>\n",
       "  </thead>\n",
       "  <tbody>\n",
       "    <tr>\n",
       "      <th>0.0</th>\n",
       "      <td>5.009524</td>\n",
       "      <td>16.030303</td>\n",
       "      <td>17.822785</td>\n",
       "    </tr>\n",
       "    <tr>\n",
       "      <th>1.0</th>\n",
       "      <td>5.058824</td>\n",
       "      <td>18.938596</td>\n",
       "      <td>21.652174</td>\n",
       "    </tr>\n",
       "  </tbody>\n",
       "</table>\n",
       "</div>"
      ],
      "text/plain": [
       "            pre       post    delayed\n",
       "group                                \n",
       "0.0    5.009524  16.030303  17.822785\n",
       "1.0    5.058824  18.938596  21.652174"
      ]
     },
     "execution_count": 11,
     "metadata": {},
     "output_type": "execute_result"
    }
   ],
   "source": [
    "# Mean test scores\n",
    "\n",
    "df.groupby('group').mean()[TESTS.keys()]"
   ]
  },
  {
   "cell_type": "code",
   "execution_count": 12,
   "id": "46e1a6c5",
   "metadata": {},
   "outputs": [
    {
     "data": {
      "text/html": [
       "<div>\n",
       "<style scoped>\n",
       "    .dataframe tbody tr th:only-of-type {\n",
       "        vertical-align: middle;\n",
       "    }\n",
       "\n",
       "    .dataframe tbody tr th {\n",
       "        vertical-align: top;\n",
       "    }\n",
       "\n",
       "    .dataframe thead th {\n",
       "        text-align: right;\n",
       "    }\n",
       "</style>\n",
       "<table border=\"1\" class=\"dataframe\">\n",
       "  <thead>\n",
       "    <tr style=\"text-align: right;\">\n",
       "      <th></th>\n",
       "      <th>pre</th>\n",
       "      <th>post</th>\n",
       "      <th>delayed</th>\n",
       "    </tr>\n",
       "    <tr>\n",
       "      <th>group</th>\n",
       "      <th></th>\n",
       "      <th></th>\n",
       "      <th></th>\n",
       "    </tr>\n",
       "  </thead>\n",
       "  <tbody>\n",
       "    <tr>\n",
       "      <th>0.0</th>\n",
       "      <td>9.338192</td>\n",
       "      <td>12.508327</td>\n",
       "      <td>14.660045</td>\n",
       "    </tr>\n",
       "    <tr>\n",
       "      <th>1.0</th>\n",
       "      <td>9.632479</td>\n",
       "      <td>13.276691</td>\n",
       "      <td>13.914523</td>\n",
       "    </tr>\n",
       "  </tbody>\n",
       "</table>\n",
       "</div>"
      ],
      "text/plain": [
       "            pre       post    delayed\n",
       "group                                \n",
       "0.0    9.338192  12.508327  14.660045\n",
       "1.0    9.632479  13.276691  13.914523"
      ]
     },
     "execution_count": 12,
     "metadata": {},
     "output_type": "execute_result"
    }
   ],
   "source": [
    "# Standard deviation of test scores\n",
    "\n",
    "df.groupby('group').std()[TESTS.keys()]"
   ]
  },
  {
   "cell_type": "code",
   "execution_count": 13,
   "id": "07acc47d",
   "metadata": {},
   "outputs": [
    {
     "data": {
      "text/plain": [
       "0.004464285714285714"
      ]
     },
     "execution_count": 13,
     "metadata": {},
     "output_type": "execute_result"
    }
   ],
   "source": [
    "len(df[df['pre'] > 45]) / len(df)"
   ]
  },
  {
   "cell_type": "markdown",
   "id": "9b14e65d",
   "metadata": {},
   "source": [
    "## Drawing a Histrogram to inspect Distribution"
   ]
  },
  {
   "cell_type": "code",
   "execution_count": 14,
   "id": "12a7170e",
   "metadata": {},
   "outputs": [],
   "source": [
    "def calculate_bins(x):\n",
    "    \"\"\"\n",
    "    Uses the Freedman-Diaconis rule to determine the number of bins in a histogram\n",
    "    https://en.wikipedia.org/wiki/Freedman–Diaconis_rule\n",
    "\n",
    "    Args:\n",
    "        x (array): the data used to draw a histogram\n",
    "\n",
    "    Returns:\n",
    "        int: the number of bins to be used in a histogram\n",
    "    \"\"\"\n",
    "    x = np.array(x)                                  # Convert x to numpy array\n",
    "    x = x[~np.isnan(x)]                              # Drop NaN value\n",
    "    q25, q75 = np.percentile(x, [25, 75])            # Calculate lower and upper quartiles\n",
    "    bin_width = 2 * (q75 - q25) * len(x) ** (-1/3)   # Freedman-Diaconis formula for bin width\n",
    "    return round((x.max() - x.min()) / bin_width)    # Divide range by bin_width for num_bins"
   ]
  },
  {
   "cell_type": "code",
   "execution_count": 15,
   "id": "f848a663",
   "metadata": {},
   "outputs": [
    {
     "name": "stderr",
     "output_type": "stream",
     "text": [
      "/Users/jacob/miniforge3/envs/mlp/lib/python3.8/site-packages/outdated/utils.py:14: OutdatedPackageWarning: The package pingouin is out of date. Your version is 0.5.0, the latest is 0.5.2.\n",
      "Set the environment variable OUTDATED_IGNORE=1 to disable these warnings.\n",
      "  return warn(\n"
     ]
    },
    {
     "data": {
      "image/png": "[encoded data removed]",
      "text/plain": [
       "<Figure size 432x360 with 1 Axes>"
      ]
     },
     "metadata": {
      "needs_background": "light"
     },
     "output_type": "display_data"
    }
   ],
   "source": [
    "fig = plt.figure(figsize=(6, 5))\n",
    "ax = fig.add_axes([0, 0, 1, 1])\n",
    "\n",
    "test = 'post'\n",
    "\n",
    "ax.hist(\n",
    "    df[test], \n",
    "    bins=calculate_bins(df[test]),\n",
    "    edgecolor='black',\n",
    "    color='lightgrey'\n",
    ")\n",
    "\n",
    "ax.set_xlabel('Score')\n",
    "ax.set_ylabel('Counts')\n",
    "ax.set_title('Distribution of Post-test Scores')\n",
    "\n",
    "ax.set_xlim(-1, 50)\n",
    "\n",
    "save_fig('post_test_distribution')"
   ]
  },
  {
   "cell_type": "markdown",
   "id": "b448896f",
   "metadata": {},
   "source": [
    "## Drawing Plot to Get a Visual Assessment of the App’s Effect"
   ]
  },
  {
   "cell_type": "code",
   "execution_count": 16,
   "id": "839a5fce",
   "metadata": {},
   "outputs": [
    {
     "data": {
      "image/png": "[encoded data removed]",
      "text/plain": [
       "<Figure size 504x432 with 1 Axes>"
      ]
     },
     "metadata": {
      "needs_background": "light"
     },
     "output_type": "display_data"
    }
   ],
   "source": [
    "means = df.groupby('group').mean()[TESTS.keys()]\n",
    "std = df.groupby('group').std()[TESTS.keys()]\n",
    "counts = df.groupby('group').count()[TESTS.keys()]\n",
    "\n",
    "fig = plt.figure(figsize=(7, 6))\n",
    "ax = fig.add_axes([0, 0, 1, 1])\n",
    "\n",
    "colors = [CTR_COLOR, EXP_COLOR]\n",
    "labels = ['Control', 'Experimental']\n",
    "\n",
    "args = {\n",
    "    'color': 'black', \n",
    "    'linewidth': 1,\n",
    "    'linestyle': '-'\n",
    "}\n",
    "line_width = 0.025\n",
    "\n",
    "for i in range(2):\n",
    "    for x, (m, s, c) in enumerate(zip(means.iloc[i], std.iloc[i], counts.iloc[i])):\n",
    "        x = x + 0.05 if i else x - 0.05\n",
    "        \n",
    "        # Calculate 95% confidence interval\n",
    "        ci95 = 1.96 * s / math.sqrt(c)    \n",
    "        \n",
    "        # Defining the position of the error bars\n",
    "        left = x - line_width / 2\n",
    "        top = m - ci95\n",
    "        right = x + line_width / 2\n",
    "        bottom = m + ci95\n",
    "        \n",
    "        # Plotting the points and the error bars\n",
    "        ax.plot([x, x], [top, bottom], **args)\n",
    "        ax.plot([left, right], [top, top], **args)\n",
    "        ax.plot([left, right], [bottom, bottom], **args)\n",
    "        ax.scatter(\n",
    "            x, m,\n",
    "            color=colors[i],\n",
    "            s=40,\n",
    "            label=labels[i] if -0.1 < x < 0.1  else \"\",\n",
    "            edgecolor='black',\n",
    "            zorder=3\n",
    "        ) \n",
    "\n",
    "# Format the plot\n",
    "ax.set_ylabel('Score')\n",
    "ax.set_title('Pre-, Post- and Delayed Post-test Means for the Control and\\nExperimental Groups and their 95% Confidence Intervals')\n",
    "\n",
    "# Set ticks and show legend\n",
    "plt.xticks([0, 1, 2], TESTS.values())\n",
    "plt.legend(loc=\"upper left\")\n",
    "\n",
    "# Save the figure\n",
    "save_fig('effectiveness_scatter_plot')"
   ]
  },
  {
   "cell_type": "markdown",
   "id": "5470d3a6",
   "metadata": {},
   "source": [
    "## Drawing Frequency Distributions of the Test Scores"
   ]
  },
  {
   "cell_type": "code",
   "execution_count": 17,
   "id": "8b9b791a",
   "metadata": {},
   "outputs": [],
   "source": [
    "def draw_histogram(exp, ctr, bins=None):\n",
    "    fig = plt.figure(figsize=(10, 4))\n",
    "    ax1 = fig.add_axes([0, 0, 0.48, 1])\n",
    "    ax2 = fig.add_axes([0.52, 0, 0.48, 1])\n",
    "    test_name = TESTS[exp.name]\n",
    "    \n",
    "    exp_bins = bins if bins else calculate_bins(exp)\n",
    "    ctr_bins = bins if bins else calculate_bins(exp)\n",
    "    \n",
    "    exp_counts, _, _ = ax1.hist(\n",
    "        exp, \n",
    "        bins=exp_bins,\n",
    "        edgecolor='black',\n",
    "        color=EXP_COLOR\n",
    "    )\n",
    "    \n",
    "    ctr_counts, _, _ = ax2.hist(\n",
    "        ctr, \n",
    "        bins=ctr_bins, \n",
    "        edgecolor='black',\n",
    "        color=CTR_COLOR,\n",
    "    )\n",
    "    \n",
    "    ax1.set_xlabel(f'{test_name} Score')\n",
    "    ax1.set_ylabel('Count')\n",
    "    ax1.set_title(f'Distribution of {test_name}\\nScores for Experimental Group')\n",
    "    \n",
    "    ax2.set_xlabel(f'{test_name} Score')\n",
    "    ax2.set_ylabel('Count')\n",
    "    ax2.set_title(f'Distribution of {test_name}\\nScores for Control Group')\n",
    "    \n",
    "    max_score = max(max(exp), max(ctr))\n",
    "    max_count = max(max(exp_counts), max(ctr_counts))\n",
    "    \n",
    "    for ax, mean in zip((ax1, ax2), (exp.mean(), ctr.mean())):\n",
    "        ax.set_xlim([0, max_score + 3])\n",
    "        ax.set_ylim([0, max_count + 3])\n",
    "        ax.plot([mean, mean], [0, max_count], label='mean', color='#333333', ls='--')\n",
    "        ax.legend()\n",
    "    \n",
    "    return plt"
   ]
  },
  {
   "cell_type": "code",
   "execution_count": 18,
   "id": "9f2af47e",
   "metadata": {},
   "outputs": [
    {
     "data": {
      "image/png": "[encoded data removed]",
      "text/plain": [
       "<Figure size 720x288 with 2 Axes>"
      ]
     },
     "metadata": {
      "needs_background": "light"
     },
     "output_type": "display_data"
    }
   ],
   "source": [
    "draw_histogram(exp['pre'].dropna(), ctr['pre'].dropna())\n",
    "save_fig('pre-test_distribution')"
   ]
  },
  {
   "cell_type": "code",
   "execution_count": 19,
   "id": "b660d7cd",
   "metadata": {},
   "outputs": [
    {
     "data": {
      "image/png": "[encoded data removed]",
      "text/plain": [
       "<Figure size 720x288 with 2 Axes>"
      ]
     },
     "metadata": {
      "needs_background": "light"
     },
     "output_type": "display_data"
    }
   ],
   "source": [
    "draw_histogram(exp['post'].dropna(), ctr['post'].dropna())\n",
    "save_fig('post-test_distribution')"
   ]
  },
  {
   "cell_type": "code",
   "execution_count": 20,
   "id": "1c290862",
   "metadata": {},
   "outputs": [
    {
     "data": {
      "image/png": "[encoded data removed]",
      "text/plain": [
       "<Figure size 720x288 with 2 Axes>"
      ]
     },
     "metadata": {
      "needs_background": "light"
     },
     "output_type": "display_data"
    }
   ],
   "source": [
    "draw_histogram(exp['delayed'].dropna(), ctr['delayed'].dropna())\n",
    "save_fig('delayed_test_distribution')"
   ]
  },
  {
   "cell_type": "markdown",
   "id": "47802df9",
   "metadata": {},
   "source": [
    "## Running Shapiro-Wilk Test to Test the Assumption of Normality"
   ]
  },
  {
   "cell_type": "markdown",
   "id": "46c5bde3",
   "metadata": {},
   "source": [
    "The Shapiro-Wilk test tests the normality of residuals. See https://docs.scipy.org/doc/scipy/reference/generated/scipy.stats.shapiro.html for more details."
   ]
  },
  {
   "cell_type": "code",
   "execution_count": 21,
   "id": "d441a942",
   "metadata": {},
   "outputs": [
    {
     "data": {
      "text/html": [
       "<div>\n",
       "<style scoped>\n",
       "    .dataframe tbody tr th:only-of-type {\n",
       "        vertical-align: middle;\n",
       "    }\n",
       "\n",
       "    .dataframe tbody tr th {\n",
       "        vertical-align: top;\n",
       "    }\n",
       "\n",
       "    .dataframe thead th {\n",
       "        text-align: right;\n",
       "    }\n",
       "</style>\n",
       "<table border=\"1\" class=\"dataframe\">\n",
       "  <thead>\n",
       "    <tr style=\"text-align: right;\">\n",
       "      <th></th>\n",
       "      <th></th>\n",
       "      <th>Statistic</th>\n",
       "      <th>p_value</th>\n",
       "    </tr>\n",
       "  </thead>\n",
       "  <tbody>\n",
       "    <tr>\n",
       "      <th rowspan=\"3\" valign=\"top\">Experimental</th>\n",
       "      <th>Pre-test</th>\n",
       "      <td>0.603217</td>\n",
       "      <td>1.962577e-16</td>\n",
       "    </tr>\n",
       "    <tr>\n",
       "      <th>Post-test</th>\n",
       "      <td>0.951935</td>\n",
       "      <td>4.420230e-04</td>\n",
       "    </tr>\n",
       "    <tr>\n",
       "      <th>Delayed Post-test</th>\n",
       "      <td>0.956735</td>\n",
       "      <td>3.927988e-03</td>\n",
       "    </tr>\n",
       "    <tr>\n",
       "      <th rowspan=\"3\" valign=\"top\">Control</th>\n",
       "      <th>Pre-test</th>\n",
       "      <td>0.614838</td>\n",
       "      <td>3.468302e-15</td>\n",
       "    </tr>\n",
       "    <tr>\n",
       "      <th>Post-test</th>\n",
       "      <td>0.935943</td>\n",
       "      <td>1.192586e-04</td>\n",
       "    </tr>\n",
       "    <tr>\n",
       "      <th>Delayed Post-test</th>\n",
       "      <td>0.905835</td>\n",
       "      <td>2.417413e-05</td>\n",
       "    </tr>\n",
       "  </tbody>\n",
       "</table>\n",
       "</div>"
      ],
      "text/plain": [
       "                                Statistic       p_value\n",
       "Experimental Pre-test            0.603217  1.962577e-16\n",
       "             Post-test           0.951935  4.420230e-04\n",
       "             Delayed Post-test   0.956735  3.927988e-03\n",
       "Control      Pre-test            0.614838  3.468302e-15\n",
       "             Post-test           0.935943  1.192586e-04\n",
       "             Delayed Post-test   0.905835  2.417413e-05"
      ]
     },
     "execution_count": 21,
     "metadata": {},
     "output_type": "execute_result"
    }
   ],
   "source": [
    "res = {}\n",
    "ks_statistics = {}\n",
    "p_values = {}\n",
    "\n",
    "for sample, group in zip((exp, ctr), ('Experimental', 'Control')):\n",
    "    for col, test in TESTS.items():\n",
    "        statistic, p_value = stats.shapiro(sample[col].dropna())\n",
    "        ks_statistics[(group, test)] = statistic\n",
    "        p_values[(group, test)] = p_value\n",
    "        \n",
    "res['Statistic'] = ks_statistics\n",
    "res['p_value'] = p_values\n",
    "    \n",
    "pd.DataFrame.from_dict(res)"
   ]
  },
  {
   "cell_type": "markdown",
   "id": "a82126a1",
   "metadata": {},
   "source": [
    "## Conducting a T-test to Establish Independence of the Covariate and the Treatment Group"
   ]
  },
  {
   "cell_type": "code",
   "execution_count": 22,
   "id": "905a4c8e",
   "metadata": {},
   "outputs": [
    {
     "name": "stdout",
     "output_type": "stream",
     "text": [
      "Ttest_indResult(statistic=0.03877566793579145, pvalue=0.9691040914768562)\n"
     ]
    },
    {
     "data": {
      "text/html": [
       "<div>\n",
       "<style scoped>\n",
       "    .dataframe tbody tr th:only-of-type {\n",
       "        vertical-align: middle;\n",
       "    }\n",
       "\n",
       "    .dataframe tbody tr th {\n",
       "        vertical-align: top;\n",
       "    }\n",
       "\n",
       "    .dataframe thead th {\n",
       "        text-align: right;\n",
       "    }\n",
       "</style>\n",
       "<table border=\"1\" class=\"dataframe\">\n",
       "  <thead>\n",
       "    <tr style=\"text-align: right;\">\n",
       "      <th></th>\n",
       "      <th>statistic</th>\n",
       "      <th>p_value</th>\n",
       "    </tr>\n",
       "  </thead>\n",
       "  <tbody>\n",
       "    <tr>\n",
       "      <th>Pre-test</th>\n",
       "      <td>0.038776</td>\n",
       "      <td>0.969104</td>\n",
       "    </tr>\n",
       "  </tbody>\n",
       "</table>\n",
       "</div>"
      ],
      "text/plain": [
       "          statistic   p_value\n",
       "Pre-test   0.038776  0.969104"
      ]
     },
     "execution_count": 22,
     "metadata": {},
     "output_type": "execute_result"
    }
   ],
   "source": [
    "t_test = stats.ttest_ind(exp['pre'], ctr['pre'])\n",
    "print(t_test)\n",
    "pd.DataFrame(data=[t_test], columns=['statistic', 'p_value'], index=['Pre-test'])"
   ]
  },
  {
   "cell_type": "markdown",
   "id": "27b06f91",
   "metadata": {},
   "source": [
    "## Running Levene’s Test to Test the Assumption of Homogeneity of Variance"
   ]
  },
  {
   "cell_type": "markdown",
   "id": "03e2fd48",
   "metadata": {},
   "source": [
    "\n",
    "The Levene test tests the null hypothesis that all input samples are from populations with equal variances. See https://docs.scipy.org/doc/scipy/reference/generated/scipy.stats.levene.html for more details"
   ]
  },
  {
   "cell_type": "code",
   "execution_count": 23,
   "id": "1503418f",
   "metadata": {},
   "outputs": [
    {
     "data": {
      "text/html": [
       "<div>\n",
       "<style scoped>\n",
       "    .dataframe tbody tr th:only-of-type {\n",
       "        vertical-align: middle;\n",
       "    }\n",
       "\n",
       "    .dataframe tbody tr th {\n",
       "        vertical-align: top;\n",
       "    }\n",
       "\n",
       "    .dataframe thead th {\n",
       "        text-align: right;\n",
       "    }\n",
       "</style>\n",
       "<table border=\"1\" class=\"dataframe\">\n",
       "  <thead>\n",
       "    <tr style=\"text-align: right;\">\n",
       "      <th></th>\n",
       "      <th>statistic</th>\n",
       "      <th>pvalue</th>\n",
       "    </tr>\n",
       "  </thead>\n",
       "  <tbody>\n",
       "    <tr>\n",
       "      <th>Pre-test</th>\n",
       "      <td>0.000084</td>\n",
       "      <td>0.992675</td>\n",
       "    </tr>\n",
       "    <tr>\n",
       "      <th>Post-test</th>\n",
       "      <td>0.919212</td>\n",
       "      <td>0.338779</td>\n",
       "    </tr>\n",
       "    <tr>\n",
       "      <th>Delayed Post-test</th>\n",
       "      <td>0.180008</td>\n",
       "      <td>0.671906</td>\n",
       "    </tr>\n",
       "  </tbody>\n",
       "</table>\n",
       "</div>"
      ],
      "text/plain": [
       "                   statistic    pvalue\n",
       "Pre-test            0.000084  0.992675\n",
       "Post-test           0.919212  0.338779\n",
       "Delayed Post-test   0.180008  0.671906"
      ]
     },
     "execution_count": 23,
     "metadata": {},
     "output_type": "execute_result"
    }
   ],
   "source": [
    "res = {}\n",
    "\n",
    "for col, test in TESTS.items():\n",
    "    res[test] = stats.levene(exp[col].dropna(), ctr[col].dropna(), center='mean')\n",
    "    \n",
    "pd.DataFrame.from_dict(res, orient='index')"
   ]
  },
  {
   "cell_type": "markdown",
   "id": "5cccaf61",
   "metadata": {},
   "source": [
    "## Insptecting the Data for a Linear Relationship Between the Covariate and the Dependent Variables"
   ]
  },
  {
   "cell_type": "code",
   "execution_count": 24,
   "id": "70aadd6e",
   "metadata": {},
   "outputs": [
    {
     "data": {
      "image/png": "[encoded data removed]",
      "text/plain": [
       "<Figure size 360x360 with 1 Axes>"
      ]
     },
     "metadata": {
      "needs_background": "light"
     },
     "output_type": "display_data"
    }
   ],
   "source": [
    "OUTCOME = 'post'\n",
    "\n",
    "label_ = f\"{OUTCOME.title()}-test\" if OUTCOME == 'post' else f\"{OUTCOME.title()} Post-test\"\n",
    "\n",
    "sns.lmplot(\n",
    "    x='pre', \n",
    "    y=OUTCOME, \n",
    "    data=df,\n",
    "    scatter_kws={'color': 'lightgrey', 'edgecolor': 'black', 's': 11},\n",
    "    height=5\n",
    ")\n",
    "\n",
    "plt.title(f\"{label_} Against Pre-test\")\n",
    "plt.xlabel('Pre-test Score')\n",
    "plt.ylabel(f'{label_} Score')\n",
    "\n",
    "plt.xlim(-2, 50)\n",
    "plt.ylim(-2, 50)\n",
    "\n",
    "save_fig(f\"Linear Model Plot - {label_} Against Pre\")"
   ]
  },
  {
   "cell_type": "code",
   "execution_count": 25,
   "id": "6acc4aa9",
   "metadata": {},
   "outputs": [],
   "source": [
    "def draw_scatter(x, y):\n",
    "    fig = plt.figure(figsize=(9, 4))\n",
    "    ax1 = fig.add_axes([0, 0, 0.45, 1])\n",
    "    ax2 = fig.add_axes([0.55, 0, 0.45, 1])\n",
    "    \n",
    "    max_score = max(map(max, (exp[x], exp[y], ctr[x], ctr[y])))\n",
    "    \n",
    "    for ax, group, color in zip((ax1, ax2), (exp, ctr), (EXP_COLOR, CTR_COLOR)):\n",
    "        ax.scatter(\n",
    "            x=group[x], \n",
    "            y=group[y], \n",
    "            color=color,\n",
    "            edgecolor='black'\n",
    "        )\n",
    "        plot = \"Experimental\" if color == EXP_COLOR else \"Control\"\n",
    "        \n",
    "        ax.set_xlabel(TESTS[x])\n",
    "        ax.set_ylabel(TESTS[y])\n",
    "        ax.set_title(f'{plot} Group')\n",
    "\n",
    "        ax.set_xlim([-2, 50])\n",
    "        ax.set_ylim([-2, 50])"
   ]
  },
  {
   "cell_type": "code",
   "execution_count": 26,
   "id": "d9b2a3eb",
   "metadata": {},
   "outputs": [
    {
     "data": {
      "image/png": "[encoded data removed]",
      "text/plain": [
       "<Figure size 648x288 with 2 Axes>"
      ]
     },
     "metadata": {
      "needs_background": "light"
     },
     "output_type": "display_data"
    }
   ],
   "source": [
    "draw_scatter('pre', 'post')\n",
    "save_fig('pre-post_scatter')"
   ]
  },
  {
   "cell_type": "code",
   "execution_count": 27,
   "id": "221477ac",
   "metadata": {},
   "outputs": [
    {
     "data": {
      "image/png": "[encoded data removed]",
      "text/plain": [
       "<Figure size 648x288 with 2 Axes>"
      ]
     },
     "metadata": {
      "needs_background": "light"
     },
     "output_type": "display_data"
    }
   ],
   "source": [
    "draw_scatter('pre', 'delayed')\n",
    "save_fig('pre-delayed_scatter')"
   ]
  },
  {
   "cell_type": "markdown",
   "id": "62cac2bd",
   "metadata": {},
   "source": [
    "In the code below, I cross-validated the data to three different models - linear, log, and polnomial - and determine whether there are statistically significant differences in the residuals between the models."
   ]
  },
  {
   "cell_type": "code",
   "execution_count": 28,
   "id": "68e8fa1e",
   "metadata": {},
   "outputs": [
    {
     "name": "stdout",
     "output_type": "stream",
     "text": [
      "linear \t -78.97 -195.5 -40.27\n",
      "log \t -79.88 -198.49 -26.02\n",
      "x2 \t -78.88 -222.44 -34.71\n",
      "\n",
      "         Source  ddof1         H     p-unc\n",
      "Kruskal  group      2  0.110968  0.946027\n",
      "\n",
      "-----------------------\n",
      "\n",
      "linear \t -112.0 -175.14 -57.91\n",
      "log \t -114.51 -152.71 -77.83\n",
      "x2 \t -111.42 -172.54 -66.41\n",
      "\n",
      "         Source  ddof1        H     p-unc\n",
      "Kruskal  group      2  0.28129  0.868798\n",
      "\n",
      "-----------------------\n",
      "\n"
     ]
    }
   ],
   "source": [
    "from sklearn.model_selection import KFold\n",
    "from sklearn.model_selection import cross_val_score\n",
    "from sklearn.preprocessing import PolynomialFeatures\n",
    "from sklearn.linear_model import LinearRegression\n",
    "\n",
    "n_splits = 10\n",
    "\n",
    "# prepare the cross-validation procedure\n",
    "cv = KFold(n_splits=n_splits, random_state=1, shuffle=True)\n",
    "\n",
    "OUTCOME = 'post'\n",
    "    \n",
    "for group in range(2):\n",
    "    data = []\n",
    "    \n",
    "    for model_type in ('linear', 'log', 'x2'):\n",
    "        model = LinearRegression()\n",
    "        \n",
    "        frame = df[~df[OUTCOME].isna()]\n",
    "        X = frame[frame['group'] == group]['pre'].to_numpy().reshape(-1, 1)\n",
    "        y = frame[frame['group'] == group][OUTCOME].to_numpy().reshape(-1, 1)\n",
    "\n",
    "        if model_type == 'log':\n",
    "            X = np.log(X + 1)\n",
    "            X = X.reshape(-1, 1)\n",
    "\n",
    "        if model_type.startswith('x'):\n",
    "            poly = PolynomialFeatures(degree=int(model_type[-1]))\n",
    "            X = poly.fit_transform(X)\n",
    "\n",
    "        scores = cross_val_score(model, X, y, scoring='neg_mean_squared_error', cv=cv, n_jobs=-1)\n",
    "        data.append(scores)\n",
    "        print(\n",
    "            model_type, '\\t', round(np.mean(scores), 2), round(scores.min(), 2), round(scores.max(), 2)\n",
    "        )\n",
    "\n",
    "    # Checking if there are statistically significant differences between residuals\n",
    "    data = np.array(data)\n",
    "    index = np.array([np.ones(n_splits) * i for i in range(len(data))])\n",
    "\n",
    "    frame = pd.DataFrame(\n",
    "        data={\"data\": data.flatten(), \"group\": index.flatten()}\n",
    "    )\n",
    "\n",
    "    print('\\n', kruskal(data=frame, dv='data', between='group'))\n",
    "    print('\\n-----------------------\\n')"
   ]
  },
  {
   "cell_type": "markdown",
   "id": "bad69400",
   "metadata": {},
   "source": [
    "## Drawing Regression Lines for Treatment Groups to Inspect the Homogeneity of Regression Slopes and Linearity"
   ]
  },
  {
   "cell_type": "code",
   "execution_count": 29,
   "id": "d873e9cc",
   "metadata": {},
   "outputs": [],
   "source": [
    "def regression_homogeneity(col, ax):\n",
    "    for group, color in zip((exp, ctr), (EXP_COLOR, CTR_COLOR)):\n",
    "        x, y = np.array(group['pre']), np.array(group[col])\n",
    "        x = x[~np.isnan(y)]\n",
    "        y = y[~np.isnan(y)]\n",
    "        m, c = np.polyfit(x, y, deg=1)\n",
    "        \n",
    "        ax.scatter(\n",
    "            x, y, \n",
    "            color=color, \n",
    "            edgecolor='black',\n",
    "            alpha=0.7,\n",
    "            label='Experimental' if color == EXP_COLOR else \"Control\"\n",
    "        )\n",
    "        \n",
    "        ax.axline(\n",
    "            (0, c), \n",
    "            slope=m, \n",
    "            color='black',\n",
    "            linestyle='-' if color == EXP_COLOR else \"--\",\n",
    "            label='Experimental' if color == EXP_COLOR else \"Control\"\n",
    "        )\n",
    "        \n",
    "    ax.set_xlabel=f\"{TESTS['pre']} Score\"\n",
    "    ax.set_ylabel=f\"{TESTS[col]} Score\"\n",
    "    ax.set_title(f\"{TESTS[col]} Score Against\\n{TESTS['pre']} Score\")\n",
    "    \n",
    "    ax.set_xlim(-2, 50)\n",
    "    ax.set_ylim(-2, 50)\n",
    "        \n",
    "    ax.legend()"
   ]
  },
  {
   "cell_type": "code",
   "execution_count": 30,
   "id": "27c628e7",
   "metadata": {},
   "outputs": [
    {
     "data": {
      "image/png": "[encoded data removed]",
      "text/plain": [
       "<Figure size 648x288 with 2 Axes>"
      ]
     },
     "metadata": {
      "needs_background": "light"
     },
     "output_type": "display_data"
    }
   ],
   "source": [
    "fig = plt.figure(figsize=(9, 4))\n",
    "ax1 = fig.add_axes([0, 0, 0.46, 1])\n",
    "ax2 = fig.add_axes([0.54, 0, 0.46, 1])\n",
    "\n",
    "regression_homogeneity('post', ax=ax1)\n",
    "regression_homogeneity('delayed', ax=ax2)\n",
    "\n",
    "save_fig('regression_homogeneity')"
   ]
  },
  {
   "cell_type": "markdown",
   "id": "ddd1eae0",
   "metadata": {},
   "source": [
    "## Conducting an ANOVA to Investigate the Homogeneity of Regression Slopes (Covariate Coefficients)"
   ]
  },
  {
   "cell_type": "markdown",
   "id": "4cf2ff66",
   "metadata": {},
   "source": [
    "There should be no interaction between the categorical independent variable and covariate. This can be tested using interaction terms between groups and their pre-test scores in an ANOVA. \n",
    "\n",
    "We begin by creating an Ordinary Least Squares regression model, with the Post-test scores (dependent variable) explained by the interaction between the Pre-test scores (covariate) and the group dummy variable."
   ]
  },
  {
   "cell_type": "code",
   "execution_count": 31,
   "id": "1b02a0fe",
   "metadata": {},
   "outputs": [
    {
     "data": {
      "text/html": [
       "<table class=\"simpletable\">\n",
       "<caption>OLS Regression Results</caption>\n",
       "<tr>\n",
       "  <th>Dep. Variable:</th>          <td>post</td>       <th>  R-squared:         </th> <td>   0.450</td>\n",
       "</tr>\n",
       "<tr>\n",
       "  <th>Model:</th>                   <td>OLS</td>       <th>  Adj. R-squared:    </th> <td>   0.442</td>\n",
       "</tr>\n",
       "<tr>\n",
       "  <th>Method:</th>             <td>Least Squares</td>  <th>  F-statistic:       </th> <td>   56.93</td>\n",
       "</tr>\n",
       "<tr>\n",
       "  <th>Date:</th>             <td>Mon, 29 Aug 2022</td> <th>  Prob (F-statistic):</th> <td>6.09e-27</td>\n",
       "</tr>\n",
       "<tr>\n",
       "  <th>Time:</th>                 <td>11:20:41</td>     <th>  Log-Likelihood:    </th> <td> -784.07</td>\n",
       "</tr>\n",
       "<tr>\n",
       "  <th>No. Observations:</th>      <td>   213</td>      <th>  AIC:               </th> <td>   1576.</td>\n",
       "</tr>\n",
       "<tr>\n",
       "  <th>Df Residuals:</th>          <td>   209</td>      <th>  BIC:               </th> <td>   1590.</td>\n",
       "</tr>\n",
       "<tr>\n",
       "  <th>Df Model:</th>              <td>     3</td>      <th>                     </th>     <td> </td>   \n",
       "</tr>\n",
       "<tr>\n",
       "  <th>Covariance Type:</th>      <td>nonrobust</td>    <th>                     </th>     <td> </td>   \n",
       "</tr>\n",
       "</table>\n",
       "<table class=\"simpletable\">\n",
       "<tr>\n",
       "      <td></td>         <th>coef</th>     <th>std err</th>      <th>t</th>      <th>P>|t|</th>  <th>[0.025</th>    <th>0.975]</th>  \n",
       "</tr>\n",
       "<tr>\n",
       "  <th>Intercept</th> <td>   11.0800</td> <td>    1.113</td> <td>    9.956</td> <td> 0.000</td> <td>    8.886</td> <td>   13.274</td>\n",
       "</tr>\n",
       "<tr>\n",
       "  <th>pre</th>       <td>    0.9443</td> <td>    0.103</td> <td>    9.206</td> <td> 0.000</td> <td>    0.742</td> <td>    1.146</td>\n",
       "</tr>\n",
       "<tr>\n",
       "  <th>group</th>     <td>    3.6205</td> <td>    1.511</td> <td>    2.396</td> <td> 0.017</td> <td>    0.641</td> <td>    6.600</td>\n",
       "</tr>\n",
       "<tr>\n",
       "  <th>pre:group</th> <td>   -0.0952</td> <td>    0.139</td> <td>   -0.683</td> <td> 0.495</td> <td>   -0.370</td> <td>    0.179</td>\n",
       "</tr>\n",
       "</table>\n",
       "<table class=\"simpletable\">\n",
       "<tr>\n",
       "  <th>Omnibus:</th>       <td> 6.687</td> <th>  Durbin-Watson:     </th> <td>   1.413</td>\n",
       "</tr>\n",
       "<tr>\n",
       "  <th>Prob(Omnibus):</th> <td> 0.035</td> <th>  Jarque-Bera (JB):  </th> <td>   6.919</td>\n",
       "</tr>\n",
       "<tr>\n",
       "  <th>Skew:</th>          <td> 0.433</td> <th>  Prob(JB):          </th> <td>  0.0314</td>\n",
       "</tr>\n",
       "<tr>\n",
       "  <th>Kurtosis:</th>      <td> 2.830</td> <th>  Cond. No.          </th> <td>    33.5</td>\n",
       "</tr>\n",
       "</table><br/><br/>Notes:<br/>[1] Standard Errors assume that the covariance matrix of the errors is correctly specified."
      ],
      "text/plain": [
       "<class 'statsmodels.iolib.summary.Summary'>\n",
       "\"\"\"\n",
       "                            OLS Regression Results                            \n",
       "==============================================================================\n",
       "Dep. Variable:                   post   R-squared:                       0.450\n",
       "Model:                            OLS   Adj. R-squared:                  0.442\n",
       "Method:                 Least Squares   F-statistic:                     56.93\n",
       "Date:                Mon, 29 Aug 2022   Prob (F-statistic):           6.09e-27\n",
       "Time:                        11:20:41   Log-Likelihood:                -784.07\n",
       "No. Observations:                 213   AIC:                             1576.\n",
       "Df Residuals:                     209   BIC:                             1590.\n",
       "Df Model:                           3                                         \n",
       "Covariance Type:            nonrobust                                         \n",
       "==============================================================================\n",
       "                 coef    std err          t      P>|t|      [0.025      0.975]\n",
       "------------------------------------------------------------------------------\n",
       "Intercept     11.0800      1.113      9.956      0.000       8.886      13.274\n",
       "pre            0.9443      0.103      9.206      0.000       0.742       1.146\n",
       "group          3.6205      1.511      2.396      0.017       0.641       6.600\n",
       "pre:group     -0.0952      0.139     -0.683      0.495      -0.370       0.179\n",
       "==============================================================================\n",
       "Omnibus:                        6.687   Durbin-Watson:                   1.413\n",
       "Prob(Omnibus):                  0.035   Jarque-Bera (JB):                6.919\n",
       "Skew:                           0.433   Prob(JB):                       0.0314\n",
       "Kurtosis:                       2.830   Cond. No.                         33.5\n",
       "==============================================================================\n",
       "\n",
       "Notes:\n",
       "[1] Standard Errors assume that the covariance matrix of the errors is correctly specified.\n",
       "\"\"\""
      ]
     },
     "execution_count": 31,
     "metadata": {},
     "output_type": "execute_result"
    }
   ],
   "source": [
    "mlr_post = smf.ols(formula=\"post ~ pre*group\", data=df).fit()\n",
    "mlr_post.summary()"
   ]
  },
  {
   "cell_type": "code",
   "execution_count": 32,
   "id": "95370724",
   "metadata": {},
   "outputs": [
    {
     "data": {
      "text/html": [
       "<table class=\"simpletable\">\n",
       "<caption>OLS Regression Results</caption>\n",
       "<tr>\n",
       "  <th>Dep. Variable:</th>         <td>delayed</td>     <th>  R-squared:         </th> <td>   0.402</td>\n",
       "</tr>\n",
       "<tr>\n",
       "  <th>Model:</th>                   <td>OLS</td>       <th>  Adj. R-squared:    </th> <td>   0.391</td>\n",
       "</tr>\n",
       "<tr>\n",
       "  <th>Method:</th>             <td>Least Squares</td>  <th>  F-statistic:       </th> <td>   37.38</td>\n",
       "</tr>\n",
       "<tr>\n",
       "  <th>Date:</th>             <td>Mon, 29 Aug 2022</td> <th>  Prob (F-statistic):</th> <td>1.55e-18</td>\n",
       "</tr>\n",
       "<tr>\n",
       "  <th>Time:</th>                 <td>11:20:41</td>     <th>  Log-Likelihood:    </th> <td> -653.71</td>\n",
       "</tr>\n",
       "<tr>\n",
       "  <th>No. Observations:</th>      <td>   171</td>      <th>  AIC:               </th> <td>   1315.</td>\n",
       "</tr>\n",
       "<tr>\n",
       "  <th>Df Residuals:</th>          <td>   167</td>      <th>  BIC:               </th> <td>   1328.</td>\n",
       "</tr>\n",
       "<tr>\n",
       "  <th>Df Model:</th>              <td>     3</td>      <th>                     </th>     <td> </td>   \n",
       "</tr>\n",
       "<tr>\n",
       "  <th>Covariance Type:</th>      <td>nonrobust</td>    <th>                     </th>     <td> </td>   \n",
       "</tr>\n",
       "</table>\n",
       "<table class=\"simpletable\">\n",
       "<tr>\n",
       "      <td></td>         <th>coef</th>     <th>std err</th>      <th>t</th>      <th>P>|t|</th>  <th>[0.025</th>    <th>0.975]</th>  \n",
       "</tr>\n",
       "<tr>\n",
       "  <th>Intercept</th> <td>   11.6652</td> <td>    1.485</td> <td>    7.854</td> <td> 0.000</td> <td>    8.733</td> <td>   14.597</td>\n",
       "</tr>\n",
       "<tr>\n",
       "  <th>pre</th>       <td>    0.9614</td> <td>    0.123</td> <td>    7.829</td> <td> 0.000</td> <td>    0.719</td> <td>    1.204</td>\n",
       "</tr>\n",
       "<tr>\n",
       "  <th>group</th>     <td>    5.3580</td> <td>    2.009</td> <td>    2.667</td> <td> 0.008</td> <td>    1.392</td> <td>    9.324</td>\n",
       "</tr>\n",
       "<tr>\n",
       "  <th>pre:group</th> <td>   -0.2036</td> <td>    0.166</td> <td>   -1.226</td> <td> 0.222</td> <td>   -0.532</td> <td>    0.124</td>\n",
       "</tr>\n",
       "</table>\n",
       "<table class=\"simpletable\">\n",
       "<tr>\n",
       "  <th>Omnibus:</th>       <td> 4.836</td> <th>  Durbin-Watson:     </th> <td>   1.717</td>\n",
       "</tr>\n",
       "<tr>\n",
       "  <th>Prob(Omnibus):</th> <td> 0.089</td> <th>  Jarque-Bera (JB):  </th> <td>   4.847</td>\n",
       "</tr>\n",
       "<tr>\n",
       "  <th>Skew:</th>          <td> 0.410</td> <th>  Prob(JB):          </th> <td>  0.0886</td>\n",
       "</tr>\n",
       "<tr>\n",
       "  <th>Kurtosis:</th>      <td> 2.911</td> <th>  Cond. No.          </th> <td>    38.6</td>\n",
       "</tr>\n",
       "</table><br/><br/>Notes:<br/>[1] Standard Errors assume that the covariance matrix of the errors is correctly specified."
      ],
      "text/plain": [
       "<class 'statsmodels.iolib.summary.Summary'>\n",
       "\"\"\"\n",
       "                            OLS Regression Results                            \n",
       "==============================================================================\n",
       "Dep. Variable:                delayed   R-squared:                       0.402\n",
       "Model:                            OLS   Adj. R-squared:                  0.391\n",
       "Method:                 Least Squares   F-statistic:                     37.38\n",
       "Date:                Mon, 29 Aug 2022   Prob (F-statistic):           1.55e-18\n",
       "Time:                        11:20:41   Log-Likelihood:                -653.71\n",
       "No. Observations:                 171   AIC:                             1315.\n",
       "Df Residuals:                     167   BIC:                             1328.\n",
       "Df Model:                           3                                         \n",
       "Covariance Type:            nonrobust                                         \n",
       "==============================================================================\n",
       "                 coef    std err          t      P>|t|      [0.025      0.975]\n",
       "------------------------------------------------------------------------------\n",
       "Intercept     11.6652      1.485      7.854      0.000       8.733      14.597\n",
       "pre            0.9614      0.123      7.829      0.000       0.719       1.204\n",
       "group          5.3580      2.009      2.667      0.008       1.392       9.324\n",
       "pre:group     -0.2036      0.166     -1.226      0.222      -0.532       0.124\n",
       "==============================================================================\n",
       "Omnibus:                        4.836   Durbin-Watson:                   1.717\n",
       "Prob(Omnibus):                  0.089   Jarque-Bera (JB):                4.847\n",
       "Skew:                           0.410   Prob(JB):                       0.0886\n",
       "Kurtosis:                       2.911   Cond. No.                         38.6\n",
       "==============================================================================\n",
       "\n",
       "Notes:\n",
       "[1] Standard Errors assume that the covariance matrix of the errors is correctly specified.\n",
       "\"\"\""
      ]
     },
     "execution_count": 32,
     "metadata": {},
     "output_type": "execute_result"
    }
   ],
   "source": [
    "mlr_delayed = smf.ols(formula=\"delayed ~ pre*group\", data=df).fit()\n",
    "mlr_delayed.summary()"
   ]
  },
  {
   "cell_type": "markdown",
   "id": "a7cc220c",
   "metadata": {},
   "source": [
    "Next we assess homogeneity by conducting a __Wald Test__ with null hypothesis:\n",
    "\n",
    "\n",
    "\n",
    "> The coefficient of the interaction between the pre-test scores and group membership is equal to zero."
   ]
  },
  {
   "cell_type": "markdown",
   "id": "27a70395",
   "metadata": {},
   "source": [
    "If we __reject__ this null hypothesis then the linear regression intercepts and or slopes are not homogenous."
   ]
  },
  {
   "cell_type": "code",
   "execution_count": 33,
   "id": "3a3cfa7c",
   "metadata": {},
   "outputs": [
    {
     "name": "stdout",
     "output_type": "stream",
     "text": [
      "<F test: F=array([[0.46704985]]), p=0.4951044398892902, df_denom=209, df_num=1>\n"
     ]
    },
    {
     "name": "stderr",
     "output_type": "stream",
     "text": [
      "/Users/jacob/miniforge3/envs/mlp/lib/python3.8/site-packages/statsmodels/base/model.py:1889: FutureWarning: The behavior of wald_test will change after 0.14 to returning scalar test statistic values. To get the future behavior now, set scalar to True. To silence this message while retaining the legacy behavior, set scalar to False.\n",
      "  warnings.warn(\n"
     ]
    }
   ],
   "source": [
    "# Wald test: post-test\n",
    "\n",
    "waldtest = mlr_post.wald_test(r_matrix='pre:group = 0', use_f=True)\n",
    "print(waldtest)"
   ]
  },
  {
   "cell_type": "code",
   "execution_count": 34,
   "id": "27490d45",
   "metadata": {},
   "outputs": [
    {
     "name": "stdout",
     "output_type": "stream",
     "text": [
      "<F test: F=array([[1.50236522]]), p=0.2220335017044153, df_denom=167, df_num=1>\n"
     ]
    }
   ],
   "source": [
    "# Wald test: delayed post-test\n",
    "\n",
    "waldtest = mlr_delayed.wald_test(r_matrix='pre:group = 0', use_f=True)\n",
    "print(waldtest)"
   ]
  },
  {
   "cell_type": "markdown",
   "id": "d534a301",
   "metadata": {},
   "source": [
    "# Running an ANCOVA"
   ]
  },
  {
   "cell_type": "markdown",
   "id": "6825c605",
   "metadata": {},
   "source": [
    "See https://pingouin-stats.org/generated/pingouin.ancova.html for more information"
   ]
  },
  {
   "cell_type": "markdown",
   "id": "02609cba",
   "metadata": {},
   "source": [
    "The dependent variable `dv` is the __Post-test Scores__ and the covariate `covar` is the __Pre-test Scores__, while the between group variable `between` is the __Condition__."
   ]
  },
  {
   "cell_type": "code",
   "execution_count": 35,
   "id": "ae2cf282",
   "metadata": {},
   "outputs": [
    {
     "data": {
      "text/html": [
       "<div>\n",
       "<style scoped>\n",
       "    .dataframe tbody tr th:only-of-type {\n",
       "        vertical-align: middle;\n",
       "    }\n",
       "\n",
       "    .dataframe tbody tr th {\n",
       "        vertical-align: top;\n",
       "    }\n",
       "\n",
       "    .dataframe thead th {\n",
       "        text-align: right;\n",
       "    }\n",
       "</style>\n",
       "<table border=\"1\" class=\"dataframe\">\n",
       "  <thead>\n",
       "    <tr style=\"text-align: right;\">\n",
       "      <th></th>\n",
       "      <th>Source</th>\n",
       "      <th>SS</th>\n",
       "      <th>DF</th>\n",
       "      <th>F</th>\n",
       "      <th>p-unc</th>\n",
       "      <th>np2</th>\n",
       "    </tr>\n",
       "  </thead>\n",
       "  <tbody>\n",
       "    <tr>\n",
       "      <th>0</th>\n",
       "      <td>group</td>\n",
       "      <td>519.844924</td>\n",
       "      <td>1</td>\n",
       "      <td>5.544565</td>\n",
       "      <td>1.946059e-02</td>\n",
       "      <td>0.025724</td>\n",
       "    </tr>\n",
       "    <tr>\n",
       "      <th>1</th>\n",
       "      <td>pre</td>\n",
       "      <td>15562.389610</td>\n",
       "      <td>1</td>\n",
       "      <td>165.985420</td>\n",
       "      <td>2.266626e-28</td>\n",
       "      <td>0.441468</td>\n",
       "    </tr>\n",
       "    <tr>\n",
       "      <th>2</th>\n",
       "      <td>Residual</td>\n",
       "      <td>19689.089657</td>\n",
       "      <td>210</td>\n",
       "      <td>NaN</td>\n",
       "      <td>NaN</td>\n",
       "      <td>NaN</td>\n",
       "    </tr>\n",
       "  </tbody>\n",
       "</table>\n",
       "</div>"
      ],
      "text/plain": [
       "     Source            SS   DF           F         p-unc       np2\n",
       "0     group    519.844924    1    5.544565  1.946059e-02  0.025724\n",
       "1       pre  15562.389610    1  165.985420  2.266626e-28  0.441468\n",
       "2  Residual  19689.089657  210         NaN           NaN       NaN"
      ]
     },
     "execution_count": 35,
     "metadata": {},
     "output_type": "execute_result"
    }
   ],
   "source": [
    "ancova(data=df, dv='post', covar='pre', between='group', effsize='np2')"
   ]
  },
  {
   "cell_type": "markdown",
   "id": "0dadeab0",
   "metadata": {},
   "source": [
    "For the delayed post-test, the dependent variable `dv` is the __Delayed Post-test Scores__ and the covariates `covar` are the __Pre-test Scores__ and the __Post-test Scores__, while the between group variable `between` is the __Condition__."
   ]
  },
  {
   "cell_type": "code",
   "execution_count": 36,
   "id": "ecb77189",
   "metadata": {},
   "outputs": [
    {
     "data": {
      "text/html": [
       "<div>\n",
       "<style scoped>\n",
       "    .dataframe tbody tr th:only-of-type {\n",
       "        vertical-align: middle;\n",
       "    }\n",
       "\n",
       "    .dataframe tbody tr th {\n",
       "        vertical-align: top;\n",
       "    }\n",
       "\n",
       "    .dataframe thead th {\n",
       "        text-align: right;\n",
       "    }\n",
       "</style>\n",
       "<table border=\"1\" class=\"dataframe\">\n",
       "  <thead>\n",
       "    <tr style=\"text-align: right;\">\n",
       "      <th></th>\n",
       "      <th>Source</th>\n",
       "      <th>SS</th>\n",
       "      <th>DF</th>\n",
       "      <th>F</th>\n",
       "      <th>p-unc</th>\n",
       "      <th>np2</th>\n",
       "    </tr>\n",
       "  </thead>\n",
       "  <tbody>\n",
       "    <tr>\n",
       "      <th>0</th>\n",
       "      <td>group</td>\n",
       "      <td>707.838672</td>\n",
       "      <td>1</td>\n",
       "      <td>5.627869</td>\n",
       "      <td>1.880829e-02</td>\n",
       "      <td>0.032413</td>\n",
       "    </tr>\n",
       "    <tr>\n",
       "      <th>1</th>\n",
       "      <td>pre</td>\n",
       "      <td>13252.384134</td>\n",
       "      <td>1</td>\n",
       "      <td>105.366780</td>\n",
       "      <td>1.702216e-19</td>\n",
       "      <td>0.385441</td>\n",
       "    </tr>\n",
       "    <tr>\n",
       "      <th>2</th>\n",
       "      <td>Residual</td>\n",
       "      <td>21130.004418</td>\n",
       "      <td>168</td>\n",
       "      <td>NaN</td>\n",
       "      <td>NaN</td>\n",
       "      <td>NaN</td>\n",
       "    </tr>\n",
       "  </tbody>\n",
       "</table>\n",
       "</div>"
      ],
      "text/plain": [
       "     Source            SS   DF           F         p-unc       np2\n",
       "0     group    707.838672    1    5.627869  1.880829e-02  0.032413\n",
       "1       pre  13252.384134    1  105.366780  1.702216e-19  0.385441\n",
       "2  Residual  21130.004418  168         NaN           NaN       NaN"
      ]
     },
     "execution_count": 36,
     "metadata": {},
     "output_type": "execute_result"
    }
   ],
   "source": [
    "ancova(data=df, dv='delayed', covar='pre', between='group', effsize='np2')"
   ]
  },
  {
   "cell_type": "markdown",
   "id": "4763ab4b",
   "metadata": {},
   "source": [
    "# Running Kruskal-Wallis"
   ]
  },
  {
   "cell_type": "markdown",
   "id": "5d57d4d3",
   "metadata": {},
   "source": [
    "The Kruskal–Wallis test is a non-parametric method for testing whether samples originate from the same distribution. Since it is a nonparametric method, the Kruskal–Wallis test does not assume a normal distribution of the residuals, unlike the analogous one-way analysis of variance\n",
    "\n",
    "https://en.wikipedia.org/wiki/Kruskal–Wallis_one-way_analysis_of_variance"
   ]
  },
  {
   "cell_type": "code",
   "execution_count": 37,
   "id": "358f8c0c",
   "metadata": {},
   "outputs": [],
   "source": [
    "# H is the value obtained in the Kruskal-Wallis test; \n",
    "# k is the number of groups; \n",
    "# n is the total number of observations\n",
    "\n",
    "def kruskal_eta_squared(H, k, n):\n",
    "    return (H - k + 1)/(n - k)"
   ]
  },
  {
   "cell_type": "code",
   "execution_count": 38,
   "id": "7a75ef52",
   "metadata": {},
   "outputs": [],
   "source": [
    "df['post_diff'] = df['post'] - df['pre']\n",
    "df['delayed_diff'] = df['delayed'] - df['pre']"
   ]
  },
  {
   "cell_type": "code",
   "execution_count": 39,
   "id": "762567df",
   "metadata": {},
   "outputs": [
    {
     "data": {
      "text/html": [
       "<div>\n",
       "<style scoped>\n",
       "    .dataframe tbody tr th:only-of-type {\n",
       "        vertical-align: middle;\n",
       "    }\n",
       "\n",
       "    .dataframe tbody tr th {\n",
       "        vertical-align: top;\n",
       "    }\n",
       "\n",
       "    .dataframe thead th {\n",
       "        text-align: right;\n",
       "    }\n",
       "</style>\n",
       "<table border=\"1\" class=\"dataframe\">\n",
       "  <thead>\n",
       "    <tr style=\"text-align: right;\">\n",
       "      <th></th>\n",
       "      <th>student_id</th>\n",
       "      <th>pre</th>\n",
       "      <th>post</th>\n",
       "      <th>delayed</th>\n",
       "      <th>dropout</th>\n",
       "      <th>post_diff</th>\n",
       "      <th>delayed_diff</th>\n",
       "    </tr>\n",
       "    <tr>\n",
       "      <th>group</th>\n",
       "      <th></th>\n",
       "      <th></th>\n",
       "      <th></th>\n",
       "      <th></th>\n",
       "      <th></th>\n",
       "      <th></th>\n",
       "      <th></th>\n",
       "    </tr>\n",
       "  </thead>\n",
       "  <tbody>\n",
       "    <tr>\n",
       "      <th>0.0</th>\n",
       "      <td>3027.0</td>\n",
       "      <td>0.0</td>\n",
       "      <td>14.0</td>\n",
       "      <td>14.0</td>\n",
       "      <td>NaN</td>\n",
       "      <td>10.0</td>\n",
       "      <td>10.0</td>\n",
       "    </tr>\n",
       "    <tr>\n",
       "      <th>1.0</th>\n",
       "      <td>3101.0</td>\n",
       "      <td>0.0</td>\n",
       "      <td>20.5</td>\n",
       "      <td>21.0</td>\n",
       "      <td>NaN</td>\n",
       "      <td>12.5</td>\n",
       "      <td>14.0</td>\n",
       "    </tr>\n",
       "  </tbody>\n",
       "</table>\n",
       "</div>"
      ],
      "text/plain": [
       "       student_id  pre  post  delayed  dropout  post_diff  delayed_diff\n",
       "group                                                                  \n",
       "0.0        3027.0  0.0  14.0     14.0      NaN       10.0          10.0\n",
       "1.0        3101.0  0.0  20.5     21.0      NaN       12.5          14.0"
      ]
     },
     "execution_count": 39,
     "metadata": {},
     "output_type": "execute_result"
    }
   ],
   "source": [
    "df.groupby('group').median()"
   ]
  },
  {
   "cell_type": "code",
   "execution_count": 40,
   "id": "4128afd5",
   "metadata": {},
   "outputs": [
    {
     "data": {
      "text/html": [
       "<div>\n",
       "<style scoped>\n",
       "    .dataframe tbody tr th:only-of-type {\n",
       "        vertical-align: middle;\n",
       "    }\n",
       "\n",
       "    .dataframe tbody tr th {\n",
       "        vertical-align: top;\n",
       "    }\n",
       "\n",
       "    .dataframe thead th {\n",
       "        text-align: right;\n",
       "    }\n",
       "</style>\n",
       "<table border=\"1\" class=\"dataframe\">\n",
       "  <thead>\n",
       "    <tr style=\"text-align: right;\">\n",
       "      <th></th>\n",
       "      <th>Source</th>\n",
       "      <th>ddof1</th>\n",
       "      <th>H</th>\n",
       "      <th>p-unc</th>\n",
       "    </tr>\n",
       "  </thead>\n",
       "  <tbody>\n",
       "    <tr>\n",
       "      <th>Kruskal</th>\n",
       "      <td>group</td>\n",
       "      <td>1</td>\n",
       "      <td>4.658372</td>\n",
       "      <td>0.030902</td>\n",
       "    </tr>\n",
       "  </tbody>\n",
       "</table>\n",
       "</div>"
      ],
      "text/plain": [
       "        Source  ddof1         H     p-unc\n",
       "Kruskal  group      1  4.658372  0.030902"
      ]
     },
     "execution_count": 40,
     "metadata": {},
     "output_type": "execute_result"
    }
   ],
   "source": [
    "kruskal(data=df, dv='post_diff', between='group')"
   ]
  },
  {
   "cell_type": "code",
   "execution_count": 41,
   "id": "c5b4b081",
   "metadata": {},
   "outputs": [
    {
     "data": {
      "text/plain": [
       "0.016479153153153153"
      ]
     },
     "execution_count": 41,
     "metadata": {},
     "output_type": "execute_result"
    }
   ],
   "source": [
    "kruskal_eta_squared(H=4.658372, k=2, n=len(df))"
   ]
  },
  {
   "cell_type": "code",
   "execution_count": 42,
   "id": "bf65e44f",
   "metadata": {},
   "outputs": [
    {
     "data": {
      "text/html": [
       "<div>\n",
       "<style scoped>\n",
       "    .dataframe tbody tr th:only-of-type {\n",
       "        vertical-align: middle;\n",
       "    }\n",
       "\n",
       "    .dataframe tbody tr th {\n",
       "        vertical-align: top;\n",
       "    }\n",
       "\n",
       "    .dataframe thead th {\n",
       "        text-align: right;\n",
       "    }\n",
       "</style>\n",
       "<table border=\"1\" class=\"dataframe\">\n",
       "  <thead>\n",
       "    <tr style=\"text-align: right;\">\n",
       "      <th></th>\n",
       "      <th>Source</th>\n",
       "      <th>ddof1</th>\n",
       "      <th>H</th>\n",
       "      <th>p-unc</th>\n",
       "    </tr>\n",
       "  </thead>\n",
       "  <tbody>\n",
       "    <tr>\n",
       "      <th>Kruskal</th>\n",
       "      <td>group</td>\n",
       "      <td>1</td>\n",
       "      <td>5.377535</td>\n",
       "      <td>0.020398</td>\n",
       "    </tr>\n",
       "  </tbody>\n",
       "</table>\n",
       "</div>"
      ],
      "text/plain": [
       "        Source  ddof1         H     p-unc\n",
       "Kruskal  group      1  5.377535  0.020398"
      ]
     },
     "execution_count": 42,
     "metadata": {},
     "output_type": "execute_result"
    }
   ],
   "source": [
    "kruskal(data=df, dv='delayed_diff', between='group')"
   ]
  },
  {
   "cell_type": "code",
   "execution_count": 43,
   "id": "171d2a8c",
   "metadata": {},
   "outputs": [
    {
     "data": {
      "text/plain": [
       "0.019718626126126126"
      ]
     },
     "execution_count": 43,
     "metadata": {},
     "output_type": "execute_result"
    }
   ],
   "source": [
    "kruskal_eta_squared(H=5.377535, k=2, n=len(df))"
   ]
  },
  {
   "cell_type": "markdown",
   "id": "f3caa38e",
   "metadata": {},
   "source": [
    "# Post-Hoc Analysis\n",
    "\n",
    "To get a better understanding of how CCC: Graphs functions, and for whom, we can analyze:\n",
    "\n",
    "Sub-groups within the sample. That is, seeking to answer which students would benefit most from CCC: Graphs?"
   ]
  },
  {
   "cell_type": "code",
   "execution_count": 44,
   "id": "c035da9d",
   "metadata": {},
   "outputs": [
    {
     "data": {
      "text/html": [
       "<table class=\"simpletable\">\n",
       "<caption>OLS Regression Results</caption>\n",
       "<tr>\n",
       "  <th>Dep. Variable:</th>        <td>post_diff</td>    <th>  R-squared:         </th> <td>   0.039</td>\n",
       "</tr>\n",
       "<tr>\n",
       "  <th>Model:</th>                   <td>OLS</td>       <th>  Adj. R-squared:    </th> <td>   0.025</td>\n",
       "</tr>\n",
       "<tr>\n",
       "  <th>Method:</th>             <td>Least Squares</td>  <th>  F-statistic:       </th> <td>   2.830</td>\n",
       "</tr>\n",
       "<tr>\n",
       "  <th>Date:</th>             <td>Mon, 29 Aug 2022</td> <th>  Prob (F-statistic):</th>  <td>0.0395</td> \n",
       "</tr>\n",
       "<tr>\n",
       "  <th>Time:</th>                 <td>11:20:41</td>     <th>  Log-Likelihood:    </th> <td> -784.07</td>\n",
       "</tr>\n",
       "<tr>\n",
       "  <th>No. Observations:</th>      <td>   213</td>      <th>  AIC:               </th> <td>   1576.</td>\n",
       "</tr>\n",
       "<tr>\n",
       "  <th>Df Residuals:</th>          <td>   209</td>      <th>  BIC:               </th> <td>   1590.</td>\n",
       "</tr>\n",
       "<tr>\n",
       "  <th>Df Model:</th>              <td>     3</td>      <th>                     </th>     <td> </td>   \n",
       "</tr>\n",
       "<tr>\n",
       "  <th>Covariance Type:</th>      <td>nonrobust</td>    <th>                     </th>     <td> </td>   \n",
       "</tr>\n",
       "</table>\n",
       "<table class=\"simpletable\">\n",
       "<tr>\n",
       "      <td></td>         <th>coef</th>     <th>std err</th>      <th>t</th>      <th>P>|t|</th>  <th>[0.025</th>    <th>0.975]</th>  \n",
       "</tr>\n",
       "<tr>\n",
       "  <th>Intercept</th> <td>   11.0800</td> <td>    1.113</td> <td>    9.956</td> <td> 0.000</td> <td>    8.886</td> <td>   13.274</td>\n",
       "</tr>\n",
       "<tr>\n",
       "  <th>pre</th>       <td>   -0.0557</td> <td>    0.103</td> <td>   -0.543</td> <td> 0.587</td> <td>   -0.258</td> <td>    0.146</td>\n",
       "</tr>\n",
       "<tr>\n",
       "  <th>group</th>     <td>    3.6205</td> <td>    1.511</td> <td>    2.396</td> <td> 0.017</td> <td>    0.641</td> <td>    6.600</td>\n",
       "</tr>\n",
       "<tr>\n",
       "  <th>pre:group</th> <td>   -0.0952</td> <td>    0.139</td> <td>   -0.683</td> <td> 0.495</td> <td>   -0.370</td> <td>    0.179</td>\n",
       "</tr>\n",
       "</table>\n",
       "<table class=\"simpletable\">\n",
       "<tr>\n",
       "  <th>Omnibus:</th>       <td> 6.687</td> <th>  Durbin-Watson:     </th> <td>   1.413</td>\n",
       "</tr>\n",
       "<tr>\n",
       "  <th>Prob(Omnibus):</th> <td> 0.035</td> <th>  Jarque-Bera (JB):  </th> <td>   6.919</td>\n",
       "</tr>\n",
       "<tr>\n",
       "  <th>Skew:</th>          <td> 0.433</td> <th>  Prob(JB):          </th> <td>  0.0314</td>\n",
       "</tr>\n",
       "<tr>\n",
       "  <th>Kurtosis:</th>      <td> 2.830</td> <th>  Cond. No.          </th> <td>    33.5</td>\n",
       "</tr>\n",
       "</table><br/><br/>Notes:<br/>[1] Standard Errors assume that the covariance matrix of the errors is correctly specified."
      ],
      "text/plain": [
       "<class 'statsmodels.iolib.summary.Summary'>\n",
       "\"\"\"\n",
       "                            OLS Regression Results                            \n",
       "==============================================================================\n",
       "Dep. Variable:              post_diff   R-squared:                       0.039\n",
       "Model:                            OLS   Adj. R-squared:                  0.025\n",
       "Method:                 Least Squares   F-statistic:                     2.830\n",
       "Date:                Mon, 29 Aug 2022   Prob (F-statistic):             0.0395\n",
       "Time:                        11:20:41   Log-Likelihood:                -784.07\n",
       "No. Observations:                 213   AIC:                             1576.\n",
       "Df Residuals:                     209   BIC:                             1590.\n",
       "Df Model:                           3                                         \n",
       "Covariance Type:            nonrobust                                         \n",
       "==============================================================================\n",
       "                 coef    std err          t      P>|t|      [0.025      0.975]\n",
       "------------------------------------------------------------------------------\n",
       "Intercept     11.0800      1.113      9.956      0.000       8.886      13.274\n",
       "pre           -0.0557      0.103     -0.543      0.587      -0.258       0.146\n",
       "group          3.6205      1.511      2.396      0.017       0.641       6.600\n",
       "pre:group     -0.0952      0.139     -0.683      0.495      -0.370       0.179\n",
       "==============================================================================\n",
       "Omnibus:                        6.687   Durbin-Watson:                   1.413\n",
       "Prob(Omnibus):                  0.035   Jarque-Bera (JB):                6.919\n",
       "Skew:                           0.433   Prob(JB):                       0.0314\n",
       "Kurtosis:                       2.830   Cond. No.                         33.5\n",
       "==============================================================================\n",
       "\n",
       "Notes:\n",
       "[1] Standard Errors assume that the covariance matrix of the errors is correctly specified.\n",
       "\"\"\""
      ]
     },
     "execution_count": 44,
     "metadata": {},
     "output_type": "execute_result"
    }
   ],
   "source": [
    "# post - pre ~ pre + group + pre*group\n",
    "\n",
    "ols_post_diff = smf.ols(formula=\"post_diff ~ pre + group + pre*group\", data=df).fit()\n",
    "ols_post_diff.summary()"
   ]
  },
  {
   "cell_type": "code",
   "execution_count": 45,
   "id": "aa3e54d9",
   "metadata": {},
   "outputs": [
    {
     "data": {
      "text/html": [
       "<table class=\"simpletable\">\n",
       "<caption>OLS Regression Results</caption>\n",
       "<tr>\n",
       "  <th>Dep. Variable:</th>      <td>delayed_diff</td>   <th>  R-squared:         </th> <td>   0.059</td>\n",
       "</tr>\n",
       "<tr>\n",
       "  <th>Model:</th>                   <td>OLS</td>       <th>  Adj. R-squared:    </th> <td>   0.043</td>\n",
       "</tr>\n",
       "<tr>\n",
       "  <th>Method:</th>             <td>Least Squares</td>  <th>  F-statistic:       </th> <td>   3.519</td>\n",
       "</tr>\n",
       "<tr>\n",
       "  <th>Date:</th>             <td>Mon, 29 Aug 2022</td> <th>  Prob (F-statistic):</th>  <td>0.0164</td> \n",
       "</tr>\n",
       "<tr>\n",
       "  <th>Time:</th>                 <td>11:20:41</td>     <th>  Log-Likelihood:    </th> <td> -653.71</td>\n",
       "</tr>\n",
       "<tr>\n",
       "  <th>No. Observations:</th>      <td>   171</td>      <th>  AIC:               </th> <td>   1315.</td>\n",
       "</tr>\n",
       "<tr>\n",
       "  <th>Df Residuals:</th>          <td>   167</td>      <th>  BIC:               </th> <td>   1328.</td>\n",
       "</tr>\n",
       "<tr>\n",
       "  <th>Df Model:</th>              <td>     3</td>      <th>                     </th>     <td> </td>   \n",
       "</tr>\n",
       "<tr>\n",
       "  <th>Covariance Type:</th>      <td>nonrobust</td>    <th>                     </th>     <td> </td>   \n",
       "</tr>\n",
       "</table>\n",
       "<table class=\"simpletable\">\n",
       "<tr>\n",
       "      <td></td>         <th>coef</th>     <th>std err</th>      <th>t</th>      <th>P>|t|</th>  <th>[0.025</th>    <th>0.975]</th>  \n",
       "</tr>\n",
       "<tr>\n",
       "  <th>Intercept</th> <td>   11.6652</td> <td>    1.485</td> <td>    7.854</td> <td> 0.000</td> <td>    8.733</td> <td>   14.597</td>\n",
       "</tr>\n",
       "<tr>\n",
       "  <th>pre</th>       <td>   -0.0386</td> <td>    0.123</td> <td>   -0.315</td> <td> 0.753</td> <td>   -0.281</td> <td>    0.204</td>\n",
       "</tr>\n",
       "<tr>\n",
       "  <th>group</th>     <td>    5.3580</td> <td>    2.009</td> <td>    2.667</td> <td> 0.008</td> <td>    1.392</td> <td>    9.324</td>\n",
       "</tr>\n",
       "<tr>\n",
       "  <th>pre:group</th> <td>   -0.2036</td> <td>    0.166</td> <td>   -1.226</td> <td> 0.222</td> <td>   -0.532</td> <td>    0.124</td>\n",
       "</tr>\n",
       "</table>\n",
       "<table class=\"simpletable\">\n",
       "<tr>\n",
       "  <th>Omnibus:</th>       <td> 4.836</td> <th>  Durbin-Watson:     </th> <td>   1.717</td>\n",
       "</tr>\n",
       "<tr>\n",
       "  <th>Prob(Omnibus):</th> <td> 0.089</td> <th>  Jarque-Bera (JB):  </th> <td>   4.847</td>\n",
       "</tr>\n",
       "<tr>\n",
       "  <th>Skew:</th>          <td> 0.410</td> <th>  Prob(JB):          </th> <td>  0.0886</td>\n",
       "</tr>\n",
       "<tr>\n",
       "  <th>Kurtosis:</th>      <td> 2.911</td> <th>  Cond. No.          </th> <td>    38.6</td>\n",
       "</tr>\n",
       "</table><br/><br/>Notes:<br/>[1] Standard Errors assume that the covariance matrix of the errors is correctly specified."
      ],
      "text/plain": [
       "<class 'statsmodels.iolib.summary.Summary'>\n",
       "\"\"\"\n",
       "                            OLS Regression Results                            \n",
       "==============================================================================\n",
       "Dep. Variable:           delayed_diff   R-squared:                       0.059\n",
       "Model:                            OLS   Adj. R-squared:                  0.043\n",
       "Method:                 Least Squares   F-statistic:                     3.519\n",
       "Date:                Mon, 29 Aug 2022   Prob (F-statistic):             0.0164\n",
       "Time:                        11:20:41   Log-Likelihood:                -653.71\n",
       "No. Observations:                 171   AIC:                             1315.\n",
       "Df Residuals:                     167   BIC:                             1328.\n",
       "Df Model:                           3                                         \n",
       "Covariance Type:            nonrobust                                         \n",
       "==============================================================================\n",
       "                 coef    std err          t      P>|t|      [0.025      0.975]\n",
       "------------------------------------------------------------------------------\n",
       "Intercept     11.6652      1.485      7.854      0.000       8.733      14.597\n",
       "pre           -0.0386      0.123     -0.315      0.753      -0.281       0.204\n",
       "group          5.3580      2.009      2.667      0.008       1.392       9.324\n",
       "pre:group     -0.2036      0.166     -1.226      0.222      -0.532       0.124\n",
       "==============================================================================\n",
       "Omnibus:                        4.836   Durbin-Watson:                   1.717\n",
       "Prob(Omnibus):                  0.089   Jarque-Bera (JB):                4.847\n",
       "Skew:                           0.410   Prob(JB):                       0.0886\n",
       "Kurtosis:                       2.911   Cond. No.                         38.6\n",
       "==============================================================================\n",
       "\n",
       "Notes:\n",
       "[1] Standard Errors assume that the covariance matrix of the errors is correctly specified.\n",
       "\"\"\""
      ]
     },
     "execution_count": 45,
     "metadata": {},
     "output_type": "execute_result"
    }
   ],
   "source": [
    "# delay - pre ~ pre + group + pre*group\n",
    "\n",
    "ols_delay_diff = smf.ols(formula=\"delayed_diff ~ pre + group + pre*group\", data=df).fit()\n",
    "ols_delay_diff.summary()"
   ]
  },
  {
   "cell_type": "code",
   "execution_count": 46,
   "id": "b77bd144",
   "metadata": {},
   "outputs": [
    {
     "data": {
      "text/html": [
       "<table class=\"simpletable\">\n",
       "<caption>OLS Regression Results</caption>\n",
       "<tr>\n",
       "  <th>Dep. Variable:</th>         <td>delayed</td>     <th>  R-squared:         </th> <td>   0.703</td>\n",
       "</tr>\n",
       "<tr>\n",
       "  <th>Model:</th>                   <td>OLS</td>       <th>  Adj. R-squared:    </th> <td>   0.695</td>\n",
       "</tr>\n",
       "<tr>\n",
       "  <th>Method:</th>             <td>Least Squares</td>  <th>  F-statistic:       </th> <td>   97.47</td>\n",
       "</tr>\n",
       "<tr>\n",
       "  <th>Date:</th>             <td>Mon, 29 Aug 2022</td> <th>  Prob (F-statistic):</th> <td>2.07e-42</td>\n",
       "</tr>\n",
       "<tr>\n",
       "  <th>Time:</th>                 <td>11:20:41</td>     <th>  Log-Likelihood:    </th> <td> -590.91</td>\n",
       "</tr>\n",
       "<tr>\n",
       "  <th>No. Observations:</th>      <td>   170</td>      <th>  AIC:               </th> <td>   1192.</td>\n",
       "</tr>\n",
       "<tr>\n",
       "  <th>Df Residuals:</th>          <td>   165</td>      <th>  BIC:               </th> <td>   1207.</td>\n",
       "</tr>\n",
       "<tr>\n",
       "  <th>Df Model:</th>              <td>     4</td>      <th>                     </th>     <td> </td>   \n",
       "</tr>\n",
       "<tr>\n",
       "  <th>Covariance Type:</th>      <td>nonrobust</td>    <th>                     </th>     <td> </td>   \n",
       "</tr>\n",
       "</table>\n",
       "<table class=\"simpletable\">\n",
       "<tr>\n",
       "       <td></td>         <th>coef</th>     <th>std err</th>      <th>t</th>      <th>P>|t|</th>  <th>[0.025</th>    <th>0.975]</th>  \n",
       "</tr>\n",
       "<tr>\n",
       "  <th>Intercept</th>  <td>   -1.5035</td> <td>    1.711</td> <td>   -0.879</td> <td> 0.381</td> <td>   -4.882</td> <td>    1.875</td>\n",
       "</tr>\n",
       "<tr>\n",
       "  <th>pre</th>        <td>    0.1804</td> <td>    0.079</td> <td>    2.295</td> <td> 0.023</td> <td>    0.025</td> <td>    0.336</td>\n",
       "</tr>\n",
       "<tr>\n",
       "  <th>group</th>      <td>    4.7308</td> <td>    2.401</td> <td>    1.971</td> <td> 0.050</td> <td>   -0.009</td> <td>    9.471</td>\n",
       "</tr>\n",
       "<tr>\n",
       "  <th>post</th>       <td>    0.9699</td> <td>    0.089</td> <td>   10.873</td> <td> 0.000</td> <td>    0.794</td> <td>    1.146</td>\n",
       "</tr>\n",
       "<tr>\n",
       "  <th>group:post</th> <td>   -0.1797</td> <td>    0.102</td> <td>   -1.763</td> <td> 0.080</td> <td>   -0.381</td> <td>    0.022</td>\n",
       "</tr>\n",
       "</table>\n",
       "<table class=\"simpletable\">\n",
       "<tr>\n",
       "  <th>Omnibus:</th>       <td>18.492</td> <th>  Durbin-Watson:     </th> <td>   1.886</td>\n",
       "</tr>\n",
       "<tr>\n",
       "  <th>Prob(Omnibus):</th> <td> 0.000</td> <th>  Jarque-Bera (JB):  </th> <td>  29.624</td>\n",
       "</tr>\n",
       "<tr>\n",
       "  <th>Skew:</th>          <td>-0.583</td> <th>  Prob(JB):          </th> <td>3.69e-07</td>\n",
       "</tr>\n",
       "<tr>\n",
       "  <th>Kurtosis:</th>      <td> 4.680</td> <th>  Cond. No.          </th> <td>    133.</td>\n",
       "</tr>\n",
       "</table><br/><br/>Notes:<br/>[1] Standard Errors assume that the covariance matrix of the errors is correctly specified."
      ],
      "text/plain": [
       "<class 'statsmodels.iolib.summary.Summary'>\n",
       "\"\"\"\n",
       "                            OLS Regression Results                            \n",
       "==============================================================================\n",
       "Dep. Variable:                delayed   R-squared:                       0.703\n",
       "Model:                            OLS   Adj. R-squared:                  0.695\n",
       "Method:                 Least Squares   F-statistic:                     97.47\n",
       "Date:                Mon, 29 Aug 2022   Prob (F-statistic):           2.07e-42\n",
       "Time:                        11:20:41   Log-Likelihood:                -590.91\n",
       "No. Observations:                 170   AIC:                             1192.\n",
       "Df Residuals:                     165   BIC:                             1207.\n",
       "Df Model:                           4                                         \n",
       "Covariance Type:            nonrobust                                         \n",
       "==============================================================================\n",
       "                 coef    std err          t      P>|t|      [0.025      0.975]\n",
       "------------------------------------------------------------------------------\n",
       "Intercept     -1.5035      1.711     -0.879      0.381      -4.882       1.875\n",
       "pre            0.1804      0.079      2.295      0.023       0.025       0.336\n",
       "group          4.7308      2.401      1.971      0.050      -0.009       9.471\n",
       "post           0.9699      0.089     10.873      0.000       0.794       1.146\n",
       "group:post    -0.1797      0.102     -1.763      0.080      -0.381       0.022\n",
       "==============================================================================\n",
       "Omnibus:                       18.492   Durbin-Watson:                   1.886\n",
       "Prob(Omnibus):                  0.000   Jarque-Bera (JB):               29.624\n",
       "Skew:                          -0.583   Prob(JB):                     3.69e-07\n",
       "Kurtosis:                       4.680   Cond. No.                         133.\n",
       "==============================================================================\n",
       "\n",
       "Notes:\n",
       "[1] Standard Errors assume that the covariance matrix of the errors is correctly specified.\n",
       "\"\"\""
      ]
     },
     "execution_count": 46,
     "metadata": {},
     "output_type": "execute_result"
    }
   ],
   "source": [
    "# Checking for differences between in the post-test and delayed post-test scores\n",
    "\n",
    "ols_delayed_post = smf.ols(formula=\"delayed ~ pre + group*post\", data=df).fit()\n",
    "ols_delayed_post.summary()"
   ]
  },
  {
   "cell_type": "code",
   "execution_count": 47,
   "id": "76245c7f",
   "metadata": {},
   "outputs": [
    {
     "data": {
      "text/html": [
       "<div>\n",
       "<style scoped>\n",
       "    .dataframe tbody tr th:only-of-type {\n",
       "        vertical-align: middle;\n",
       "    }\n",
       "\n",
       "    .dataframe tbody tr th {\n",
       "        vertical-align: top;\n",
       "    }\n",
       "\n",
       "    .dataframe thead th {\n",
       "        text-align: right;\n",
       "    }\n",
       "</style>\n",
       "<table border=\"1\" class=\"dataframe\">\n",
       "  <thead>\n",
       "    <tr style=\"text-align: right;\">\n",
       "      <th></th>\n",
       "      <th>Source</th>\n",
       "      <th>ddof1</th>\n",
       "      <th>H</th>\n",
       "      <th>p-unc</th>\n",
       "    </tr>\n",
       "  </thead>\n",
       "  <tbody>\n",
       "    <tr>\n",
       "      <th>Kruskal</th>\n",
       "      <td>group</td>\n",
       "      <td>1</td>\n",
       "      <td>1.639499</td>\n",
       "      <td>0.200394</td>\n",
       "    </tr>\n",
       "  </tbody>\n",
       "</table>\n",
       "</div>"
      ],
      "text/plain": [
       "        Source  ddof1         H     p-unc\n",
       "Kruskal  group      1  1.639499  0.200394"
      ]
     },
     "execution_count": 47,
     "metadata": {},
     "output_type": "execute_result"
    }
   ],
   "source": [
    "# Difference in groups between their delayed post-test and their post-test\n",
    "\n",
    "df['delayed_post_diff'] = df['delayed'] - df['post']\n",
    "\n",
    "kruskal(data=df, dv='delayed_post_diff', between='group')"
   ]
  },
  {
   "cell_type": "code",
   "execution_count": 59,
   "id": "6c38832c",
   "metadata": {},
   "outputs": [
    {
     "data": {
      "text/plain": [
       "(0.6587243303008644, 7.026700805767935e-28)"
      ]
     },
     "execution_count": 59,
     "metadata": {},
     "output_type": "execute_result"
    }
   ],
   "source": [
    "x = df[~df['post'].isna()]['pre']\n",
    "y = df[~df['post'].isna()]['post']\n",
    "\n",
    "stats.pearsonr(x, y)\n",
    "\n",
    "# Pre-test and post-test are highly correlated! Do not include both as a covariate\n",
    "# in the ANCOVA due to colinearity (https://planningtank.com/blog/ancova-analysis-covariance)"
   ]
  },
  {
   "cell_type": "code",
   "execution_count": 60,
   "id": "458303cf",
   "metadata": {},
   "outputs": [
    {
     "data": {
      "text/html": [
       "<div>\n",
       "<style scoped>\n",
       "    .dataframe tbody tr th:only-of-type {\n",
       "        vertical-align: middle;\n",
       "    }\n",
       "\n",
       "    .dataframe tbody tr th {\n",
       "        vertical-align: top;\n",
       "    }\n",
       "\n",
       "    .dataframe thead th {\n",
       "        text-align: right;\n",
       "    }\n",
       "</style>\n",
       "<table border=\"1\" class=\"dataframe\">\n",
       "  <thead>\n",
       "    <tr style=\"text-align: right;\">\n",
       "      <th></th>\n",
       "      <th>Source</th>\n",
       "      <th>SS</th>\n",
       "      <th>DF</th>\n",
       "      <th>F</th>\n",
       "      <th>p-unc</th>\n",
       "      <th>np2</th>\n",
       "    </tr>\n",
       "  </thead>\n",
       "  <tbody>\n",
       "    <tr>\n",
       "      <th>0</th>\n",
       "      <td>group</td>\n",
       "      <td>19.366427</td>\n",
       "      <td>1</td>\n",
       "      <td>0.294941</td>\n",
       "      <td>5.877957e-01</td>\n",
       "      <td>0.001763</td>\n",
       "    </tr>\n",
       "    <tr>\n",
       "      <th>1</th>\n",
       "      <td>post</td>\n",
       "      <td>23372.082866</td>\n",
       "      <td>1</td>\n",
       "      <td>355.944885</td>\n",
       "      <td>3.006262e-43</td>\n",
       "      <td>0.680655</td>\n",
       "    </tr>\n",
       "    <tr>\n",
       "      <th>2</th>\n",
       "      <td>Residual</td>\n",
       "      <td>10965.567990</td>\n",
       "      <td>167</td>\n",
       "      <td>NaN</td>\n",
       "      <td>NaN</td>\n",
       "      <td>NaN</td>\n",
       "    </tr>\n",
       "  </tbody>\n",
       "</table>\n",
       "</div>"
      ],
      "text/plain": [
       "     Source            SS   DF           F         p-unc       np2\n",
       "0     group     19.366427    1    0.294941  5.877957e-01  0.001763\n",
       "1      post  23372.082866    1  355.944885  3.006262e-43  0.680655\n",
       "2  Residual  10965.567990  167         NaN           NaN       NaN"
      ]
     },
     "execution_count": 60,
     "metadata": {},
     "output_type": "execute_result"
    }
   ],
   "source": [
    "ancova(data=df, dv='delayed', covar=['post'], between='group', effsize='np2')"
   ]
  },
  {
   "cell_type": "code",
   "execution_count": 49,
   "id": "5142822c",
   "metadata": {},
   "outputs": [
    {
     "data": {
      "text/plain": [
       "group\n",
       "0.0   -1.0\n",
       "1.0    0.0\n",
       "Name: delayed_post_diff, dtype: float64"
      ]
     },
     "execution_count": 49,
     "metadata": {},
     "output_type": "execute_result"
    }
   ],
   "source": [
    "# Difference in median outcomes\n",
    "\n",
    "df.groupby('group')['delayed_post_diff'].median()"
   ]
  },
  {
   "cell_type": "markdown",
   "id": "c3da9062",
   "metadata": {},
   "source": [
    "# Censored Regression"
   ]
  },
  {
   "cell_type": "code",
   "execution_count": 50,
   "id": "7bf4e99b",
   "metadata": {},
   "outputs": [],
   "source": [
    "from tobit import *"
   ]
  },
  {
   "cell_type": "code",
   "execution_count": 51,
   "id": "a1e79a8a",
   "metadata": {},
   "outputs": [
    {
     "data": {
      "text/plain": [
       "<tobit.TobitModel at 0x122b65f40>"
      ]
     },
     "execution_count": 51,
     "metadata": {},
     "output_type": "execute_result"
    }
   ],
   "source": [
    "DEP_VAR = 'post'\n",
    "\n",
    "data = df[~df[DEP_VAR].isna()]\n",
    "X = data[['group', 'pre']]\n",
    "y = data[DEP_VAR]\n",
    "\n",
    "# -1 indicates left-censored samples, 0 for uncensored, 1 for right-censored\n",
    "cens = pd.Series(np.zeros((len(y),)), index=y.index)\n",
    "cens[y < 6] = -1\n",
    "cens[y >= 45] = 1\n",
    "\n",
    "tr = TobitModel()\n",
    "tr.fit(X, y, cens)"
   ]
  },
  {
   "cell_type": "code",
   "execution_count": 52,
   "id": "b46b685d",
   "metadata": {},
   "outputs": [
    {
     "data": {
      "text/plain": [
       "LinearRegression()"
      ]
     },
     "execution_count": 52,
     "metadata": {},
     "output_type": "execute_result"
    }
   ],
   "source": [
    "lm = LinearRegression()\n",
    "lm.fit(X, y)"
   ]
  },
  {
   "cell_type": "code",
   "execution_count": 53,
   "id": "cd1789ba",
   "metadata": {},
   "outputs": [
    {
     "name": "stdout",
     "output_type": "stream",
     "text": [
      "   Coefficients  Standard Errors  t values  Probabilities\n",
      "0        3.4621            1.277     2.711          0.007\n",
      "1        3.4621            1.635     2.117          0.035\n",
      "2        1.1373            0.085    13.352          0.000\n"
     ]
    }
   ],
   "source": [
    "# p-values!\n",
    "\n",
    "model = tr\n",
    "\n",
    "params = np.append(model.intercept_, model.coef_)\n",
    "predictions = model.predict(X)\n",
    "\n",
    "# newX = pd.DataFrame({\"Constant\":np.ones(len(X))}).join(pd.DataFrame(X))\n",
    "# MSE = (sum((y-predictions)**2))/(len(newX)-len(newX.columns))\n",
    "\n",
    "# Note if you don't want to use a DataFrame replace the two lines above with\n",
    "newX = np.append(np.ones((len(X),1)), X, axis=1)\n",
    "MSE = (sum((y-predictions)**2))/(len(newX)-len(newX[0]))\n",
    "\n",
    "var_b = MSE*(np.linalg.inv(np.dot(newX.T,newX)).diagonal())\n",
    "sd_b = np.sqrt(var_b)\n",
    "ts_b = params/ sd_b\n",
    "\n",
    "p_values =[2*(1-stats.t.cdf(np.abs(i),(len(newX)-len(newX[0])))) for i in ts_b]\n",
    "\n",
    "sd_b = np.round(sd_b,3)\n",
    "ts_b = np.round(ts_b,3)\n",
    "p_values = np.round(p_values,3)\n",
    "params = np.round(params,4)\n",
    "\n",
    "myDF3 = pd.DataFrame()\n",
    "myDF3[\"Coefficients\"],myDF3[\"Standard Errors\"],myDF3[\"t values\"],myDF3[\"Probabilities\"] = [params,sd_b,ts_b,p_values]\n",
    "print(myDF3)"
   ]
  },
  {
   "cell_type": "code",
   "execution_count": 54,
   "id": "ebe743e0",
   "metadata": {},
   "outputs": [],
   "source": [
    "def calculate_residuals(model, features, label):\n",
    "    \"\"\"\n",
    "    Creates predictions on the features with the model and calculates residuals\n",
    "    \"\"\"\n",
    "    predictions = model.predict(features)\n",
    "    df_results = pd.DataFrame({'Actual': label.flatten(), 'Predicted': predictions.flatten()})\n",
    "    df_results['Residuals'] = abs(df_results['Actual']) - abs(df_results['Predicted'])\n",
    "    \n",
    "    return df_results"
   ]
  },
  {
   "cell_type": "code",
   "execution_count": 55,
   "id": "655eb29b",
   "metadata": {},
   "outputs": [],
   "source": [
    "def normal_errors_assumption(model, features, label, p_value_thresh=0.05):\n",
    "    \"\"\"\n",
    "    Normality: Assumes that the error terms are normally distributed. If they are not,\n",
    "    nonlinear transformations of variables may solve this.\n",
    "               \n",
    "    This assumption being violated primarily causes issues with the confidence intervals\n",
    "    \"\"\"\n",
    "    from statsmodels.stats.diagnostic import normal_ad\n",
    "    print('Assumption 2: The error terms are normally distributed', '\\n')\n",
    "    \n",
    "    # Calculating residuals for the Anderson-Darling test\n",
    "    df_results = calculate_residuals(model, features, label)\n",
    "    \n",
    "    print('Using the Shapiro-Wilk test for normal distribution')\n",
    "\n",
    "    # Performing the test on the residuals\n",
    "    value, p_value = stats.shapiro(df_results['Residuals'])\n",
    "    print('p-value from the test - below 0.05 generally means non-normal:', value, p_value)\n",
    "    \n",
    "    # Reporting the normality of the residuals\n",
    "    if p_value < p_value_thresh:\n",
    "        print('Residuals are not normally distributed')\n",
    "    else:\n",
    "        print('Residuals are normally distributed')\n",
    "    \n",
    "    # Plotting the residuals distribution\n",
    "    \n",
    "    fig = plt.figure(figsize=(6, 5))\n",
    "    ax = fig.add_axes([0, 0, 1, 1])\n",
    "\n",
    "    ax.hist(\n",
    "        df_results['Residuals'], \n",
    "        bins=10,\n",
    "        edgecolor='black',\n",
    "        color='lightgrey'\n",
    "    )\n",
    "\n",
    "    ax.set_xlabel('Residuals')\n",
    "    ax.set_ylabel('Counts')\n",
    "    ax.set_title('Distribution of Residuals')\n",
    "\n",
    "    print()\n",
    "    if p_value > p_value_thresh:\n",
    "        print('Assumption satisfied')\n",
    "    else:\n",
    "        print('Assumption not satisfied')\n",
    "        print()\n",
    "        print('Confidence intervals will likely be affected')\n",
    "        print('Try performing nonlinear transformations on variables')\n",
    "        \n",
    "    save_fig('distributions_of_residuals')"
   ]
  },
  {
   "cell_type": "code",
   "execution_count": 56,
   "id": "a70c070c",
   "metadata": {},
   "outputs": [
    {
     "name": "stdout",
     "output_type": "stream",
     "text": [
      "Assumption 2: The error terms are normally distributed \n",
      "\n",
      "Using the Shapiro-Wilk test for normal distribution\n",
      "p-value from the test - below 0.05 generally means non-normal: 0.9711176753044128 0.00023420700745191425\n",
      "Residuals are not normally distributed\n",
      "\n",
      "Assumption not satisfied\n",
      "\n",
      "Confidence intervals will likely be affected\n",
      "Try performing nonlinear transformations on variables\n"
     ]
    },
    {
     "data": {
      "image/png": "[encoded data removed]",
      "text/plain": [
       "<Figure size 432x360 with 1 Axes>"
      ]
     },
     "metadata": {
      "needs_background": "light"
     },
     "output_type": "display_data"
    }
   ],
   "source": [
    "normal_errors_assumption(tr, X.to_numpy(), y.to_numpy())"
   ]
  }
 ],
 "metadata": {
  "kernelspec": {
   "display_name": "Python 3 (ipykernel)",
   "language": "python",
   "name": "python3"
  },
  "language_info": {
   "codemirror_mode": {
    "name": "ipython",
    "version": 3
   },
   "file_extension": ".py",
   "mimetype": "text/x-python",
   "name": "python",
   "nbconvert_exporter": "python",
   "pygments_lexer": "ipython3",
   "version": "3.8.12"
  }
 },
 "nbformat": 4,
 "nbformat_minor": 5
}
